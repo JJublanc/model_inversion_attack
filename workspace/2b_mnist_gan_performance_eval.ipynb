{
 "cells": [
  {
   "cell_type": "code",
   "execution_count": 1,
   "metadata": {},
   "outputs": [],
   "source": [
    "import tensorflow as tf\n",
    "import numpy as np\n",
    "import matplotlib.pyplot as plt\n",
    "import os\n",
    "from tensorflow.keras.layers import Conv2D, Dense, Dropout, MaxPool2D, InputLayer, Flatten\n",
    "from tensorflow.keras.optimizers import SGD\n",
    "from tensorflow.keras.utils import to_categorical"
   ]
  },
  {
   "cell_type": "code",
   "execution_count": 2,
   "metadata": {},
   "outputs": [
    {
     "name": "stdout",
     "output_type": "stream",
     "text": [
      "1 Physical GPUs, 1 Logical GPUs\n"
     ]
    }
   ],
   "source": [
    "import tensorflow as tf\n",
    "gpus = tf.config.experimental.list_physical_devices('GPU')\n",
    "if gpus:\n",
    "    try:\n",
    "        # Currently, memory growth needs to be the same across GPUs\n",
    "        for gpu in gpus:\n",
    "          tf.config.experimental.set_memory_growth(gpu, True)\n",
    "        logical_gpus = tf.config.experimental.list_logical_devices('GPU')\n",
    "        print(len(gpus), \"Physical GPUs,\", len(logical_gpus), \"Logical GPUs\")\n",
    "    except RuntimeError as e:\n",
    "        # Memory growth must be set before GPUs have been initialized\n",
    "        print(e)"
   ]
  },
  {
   "cell_type": "code",
   "execution_count": 3,
   "metadata": {},
   "outputs": [],
   "source": [
    "def pick_and_show_image(data, labels):\n",
    "    i = np.random.randint(0, len(data), 1)[0]\n",
    "    img = np.squeeze(data[i,:,:])\n",
    "    y = labels[i]\n",
    "\n",
    "    figsize=(3,3)\n",
    "    plt.figure(figsize=figsize)\n",
    "    plt.imshow(img, cmap=\"gray\")\n",
    "    plt.title(\"Label : {}\".format(y))\n",
    "    plt.axis('off')\n",
    "    plt.show()\n",
    "    return img, y"
   ]
  },
  {
   "cell_type": "markdown",
   "metadata": {},
   "source": [
    "## Read mnist data"
   ]
  },
  {
   "cell_type": "code",
   "execution_count": 4,
   "metadata": {},
   "outputs": [],
   "source": [
    "(x_train_full, y_train_full), (x_test_full, y_test_full) = tf.keras.datasets.mnist.load_data()"
   ]
  },
  {
   "cell_type": "code",
   "execution_count": 5,
   "metadata": {},
   "outputs": [
    {
     "name": "stdout",
     "output_type": "stream",
     "text": [
      "training set shape: (60000, 28, 28)\n",
      "training set label shape: (60000,)\n",
      "test set shape: (10000, 28, 28)\n",
      "test set label shape: (10000,)\n"
     ]
    }
   ],
   "source": [
    "print(\"training set shape: {}\".format(x_train_full.shape))\n",
    "print(\"training set label shape: {}\".format(y_train_full.shape))\n",
    "print(\"test set shape: {}\".format(x_test_full.shape))\n",
    "print(\"test set label shape: {}\".format(y_test_full.shape))"
   ]
  },
  {
   "cell_type": "markdown",
   "metadata": {},
   "source": [
    "#### Keep data from 5 to 9 included"
   ]
  },
  {
   "cell_type": "code",
   "execution_count": 6,
   "metadata": {},
   "outputs": [],
   "source": [
    "# Find indices of labels 5 to 9\n",
    "train_index = np.squeeze(np.argwhere(y_train_full>=5))\n",
    "test_index = np.squeeze(np.argwhere(y_test_full>=5))"
   ]
  },
  {
   "cell_type": "code",
   "execution_count": 7,
   "metadata": {},
   "outputs": [
    {
     "name": "stdout",
     "output_type": "stream",
     "text": [
      "(29404,)\n",
      "(4861,)\n"
     ]
    }
   ],
   "source": [
    "print(train_index.shape)\n",
    "print(test_index.shape)"
   ]
  },
  {
   "cell_type": "code",
   "execution_count": 8,
   "metadata": {},
   "outputs": [],
   "source": [
    "(x_train, y_train) = (x_train_full[train_index], y_train_full[train_index])\n",
    "(x_test, y_test) = (x_test_full[test_index], y_test_full[test_index])"
   ]
  },
  {
   "cell_type": "markdown",
   "metadata": {},
   "source": [
    "#### Preprocessing\n",
    "\n",
    "- normalise image values\n",
    "- binarise categorical labels"
   ]
  },
  {
   "cell_type": "code",
   "execution_count": 9,
   "metadata": {},
   "outputs": [],
   "source": [
    "x_train_n = np.expand_dims(x_train/255, axis=-1).astype('float32')\n",
    "x_test_n = np.expand_dims(x_test/255, axis=-1).astype('float32')\n",
    "\n",
    "num_classes = 5\n",
    "\n",
    "# convert class vectors to binary class matrices\n",
    "y_train_b = to_categorical(y_train-5, num_classes)\n",
    "y_test_b = to_categorical(y_test-5, num_classes)"
   ]
  },
  {
   "cell_type": "code",
   "execution_count": 10,
   "metadata": {},
   "outputs": [
    {
     "name": "stdout",
     "output_type": "stream",
     "text": [
      "training set shape [labels 5 to 9]: (29404, 28, 28, 1)\n",
      "training set label shape [labels 5 to 9]: (29404, 5)\n",
      "test set shape [labels 5 to 9]: (4861, 28, 28, 1)\n",
      "test set label shape [labels 5 to 9]: (4861, 5)\n"
     ]
    }
   ],
   "source": [
    "print(\"training set shape [labels 5 to 9]: {}\".format(x_train_n.shape))\n",
    "print(\"training set label shape [labels 5 to 9]: {}\".format(y_train_b.shape))\n",
    "print(\"test set shape [labels 5 to 9]: {}\".format(x_test_n.shape))\n",
    "print(\"test set label shape [labels 5 to 9]: {}\".format(y_test_b.shape))"
   ]
  },
  {
   "cell_type": "code",
   "execution_count": 11,
   "metadata": {},
   "outputs": [
    {
     "data": {
      "image/png": "[encoded data removed]",
      "text/plain": [
       "<Figure size 216x216 with 1 Axes>"
      ]
     },
     "metadata": {
      "needs_background": "light"
     },
     "output_type": "display_data"
    },
    {
     "data": {
      "image/png": "[encoded data removed]",
      "text/plain": [
       "<Figure size 216x216 with 1 Axes>"
      ]
     },
     "metadata": {
      "needs_background": "light"
     },
     "output_type": "display_data"
    },
    {
     "data": {
      "image/png": "[encoded data removed]",
      "text/plain": [
       "<Figure size 216x216 with 1 Axes>"
      ]
     },
     "metadata": {
      "needs_background": "light"
     },
     "output_type": "display_data"
    },
    {
     "data": {
      "image/png": "[encoded data removed]",
      "text/plain": [
       "<Figure size 216x216 with 1 Axes>"
      ]
     },
     "metadata": {
      "needs_background": "light"
     },
     "output_type": "display_data"
    }
   ],
   "source": [
    "pick_and_show_image(x_train, y_train);\n",
    "pick_and_show_image(x_train_n, y_train_b);\n",
    "pick_and_show_image(x_test, y_test);\n",
    "pick_and_show_image(x_test_n, y_test_b);"
   ]
  },
  {
   "cell_type": "markdown",
   "metadata": {},
   "source": [
    "## Train classification model"
   ]
  },
  {
   "cell_type": "code",
   "execution_count": 12,
   "metadata": {},
   "outputs": [
    {
     "name": "stdout",
     "output_type": "stream",
     "text": [
      "WARNING:tensorflow:From /opt/conda/lib/python3.7/site-packages/tensorflow_core/python/ops/resource_variable_ops.py:1630: calling BaseResourceVariable.__init__ (from tensorflow.python.ops.resource_variable_ops) with constraint is deprecated and will be removed in a future version.\n",
      "Instructions for updating:\n",
      "If using Keras pass *_constraint arguments to layers.\n"
     ]
    }
   ],
   "source": [
    "model = tf.keras.Sequential(name=\"mnist529\")\n",
    "model.add(InputLayer((28, 28, 1), name=\"input\"))\n",
    "model.add(Conv2D(32, (3, 3), strides=(1, 1), padding=\"same\", activation=\"relu\", name=\"conv_1\"))\n",
    "model.add(MaxPool2D((2, 2), name=\"max_pool_1\"))\n",
    "model.add(Conv2D(64, (3, 3), strides=(1, 1), padding=\"same\", activation=\"relu\", name=\"conv_2\"))\n",
    "model.add(MaxPool2D((2, 2), name=\"max_pool_2\"))\n",
    "model.add(Dropout(.25, name=\"droput_025\"))\n",
    "model.add(Flatten(name=\"flatten\"))\n",
    "model.add(Dense(128, name=\"dense_1\", activation=\"softmax\"))\n",
    "model.add(Dropout(.5, name=\"droput_05\"))\n",
    "model.add(Dense(5, name=\"dense_out\", activation=\"softmax\"))"
   ]
  },
  {
   "cell_type": "code",
   "execution_count": 13,
   "metadata": {},
   "outputs": [
    {
     "name": "stdout",
     "output_type": "stream",
     "text": [
      "Model: \"mnist529\"\n",
      "_________________________________________________________________\n",
      "Layer (type)                 Output Shape              Param #   \n",
      "=================================================================\n",
      "conv_1 (Conv2D)              (None, 28, 28, 32)        320       \n",
      "_________________________________________________________________\n",
      "max_pool_1 (MaxPooling2D)    (None, 14, 14, 32)        0         \n",
      "_________________________________________________________________\n",
      "conv_2 (Conv2D)              (None, 14, 14, 64)        18496     \n",
      "_________________________________________________________________\n",
      "max_pool_2 (MaxPooling2D)    (None, 7, 7, 64)          0         \n",
      "_________________________________________________________________\n",
      "droput_025 (Dropout)         (None, 7, 7, 64)          0         \n",
      "_________________________________________________________________\n",
      "flatten (Flatten)            (None, 3136)              0         \n",
      "_________________________________________________________________\n",
      "dense_1 (Dense)              (None, 128)               401536    \n",
      "_________________________________________________________________\n",
      "droput_05 (Dropout)          (None, 128)               0         \n",
      "_________________________________________________________________\n",
      "dense_out (Dense)            (None, 5)                 645       \n",
      "=================================================================\n",
      "Total params: 420,997\n",
      "Trainable params: 420,997\n",
      "Non-trainable params: 0\n",
      "_________________________________________________________________\n"
     ]
    }
   ],
   "source": [
    "model.summary()"
   ]
  },
  {
   "cell_type": "code",
   "execution_count": 22,
   "metadata": {},
   "outputs": [],
   "source": [
    "optimizer = SGD(learning_rate=0.01, momentum=0.9)\n",
    "model.compile(optimizer=optimizer, loss=\"categorical_crossentropy\", metrics=[\"accuracy\"])"
   ]
  },
  {
   "cell_type": "code",
   "execution_count": 23,
   "metadata": {},
   "outputs": [
    {
     "name": "stdout",
     "output_type": "stream",
     "text": [
      "# Fit model on training data\n",
      "Train on 29404 samples, validate on 4861 samples\n",
      "Epoch 1/10\n",
      "29404/29404 [==============================] - 6s 205us/sample - loss: 1.6085 - acc: 0.2131 - val_loss: 1.6067 - val_acc: 0.2004\n",
      "Epoch 2/10\n",
      "29404/29404 [==============================] - 6s 197us/sample - loss: 1.4967 - acc: 0.2771 - val_loss: 1.1675 - val_acc: 0.4096\n",
      "Epoch 3/10\n",
      "29404/29404 [==============================] - 6s 196us/sample - loss: 1.2651 - acc: 0.3470 - val_loss: 0.8484 - val_acc: 0.6042\n",
      "Epoch 4/10\n",
      "29404/29404 [==============================] - 6s 197us/sample - loss: 1.1399 - acc: 0.4000 - val_loss: 0.7607 - val_acc: 0.6052\n",
      "Epoch 5/10\n",
      "29404/29404 [==============================] - 6s 197us/sample - loss: 1.0410 - acc: 0.4755 - val_loss: 0.5396 - val_acc: 0.7976\n",
      "Epoch 6/10\n",
      "29404/29404 [==============================] - 6s 197us/sample - loss: 0.9870 - acc: 0.4905 - val_loss: 0.4987 - val_acc: 0.7978\n",
      "Epoch 7/10\n",
      "29404/29404 [==============================] - 6s 197us/sample - loss: 0.9798 - acc: 0.4973 - val_loss: 0.4671 - val_acc: 0.7994\n",
      "Epoch 8/10\n",
      "29404/29404 [==============================] - 6s 198us/sample - loss: 0.9471 - acc: 0.5275 - val_loss: 0.3280 - val_acc: 0.9761\n",
      "Epoch 9/10\n",
      "29404/29404 [==============================] - 6s 198us/sample - loss: 0.8536 - acc: 0.5903 - val_loss: 0.2340 - val_acc: 0.9819\n",
      "Epoch 10/10\n",
      "29404/29404 [==============================] - 6s 198us/sample - loss: 0.8360 - acc: 0.5953 - val_loss: 0.2047 - val_acc: 0.9883\n",
      "Test loss: 0.204697340690067\n",
      "Test accuracy: 0.98827404\n"
     ]
    }
   ],
   "source": [
    "print('# Fit model on training data')\n",
    "history = model.fit(x_train_n, y_train_b,\n",
    "                    batch_size=32,\n",
    "                    epochs=10,\n",
    "                    validation_data=(x_test_n, y_test_b))\n",
    "\n",
    "score = model.evaluate(x_test_n, y_test_b, verbose=0)\n",
    "print('Test loss:', score[0])\n",
    "print('Test accuracy:', score[1])"
   ]
  },
  {
   "cell_type": "markdown",
   "metadata": {},
   "source": [
    "## Save model\n"
   ]
  },
  {
   "cell_type": "code",
   "execution_count": 24,
   "metadata": {},
   "outputs": [],
   "source": [
    "if not \"gan_evaluation\" in os.listdir(\"./\"):\n",
    "    os.mkdir(\"gan_evaluation\")\n",
    "model.save(\"gan_evaluation/gan_evaluation_model.h5\")"
   ]
  },
  {
   "cell_type": "markdown",
   "metadata": {},
   "source": [
    "## Make prediction"
   ]
  },
  {
   "cell_type": "code",
   "execution_count": 14,
   "metadata": {},
   "outputs": [
    {
     "name": "stdout",
     "output_type": "stream",
     "text": [
      "WARNING:tensorflow:From /opt/conda/lib/python3.7/site-packages/tensorflow_core/python/ops/init_ops.py:97: calling GlorotUniform.__init__ (from tensorflow.python.ops.init_ops) with dtype is deprecated and will be removed in a future version.\n",
      "Instructions for updating:\n",
      "Call initializer instance with the dtype argument instead of passing it to the constructor\n",
      "WARNING:tensorflow:From /opt/conda/lib/python3.7/site-packages/tensorflow_core/python/ops/init_ops.py:97: calling Zeros.__init__ (from tensorflow.python.ops.init_ops) with dtype is deprecated and will be removed in a future version.\n",
      "Instructions for updating:\n",
      "Call initializer instance with the dtype argument instead of passing it to the constructor\n"
     ]
    }
   ],
   "source": [
    "saved_model = tf.keras.models.load_model(\"gan_evaluation/gan_evaluation_model.h5\")"
   ]
  },
  {
   "cell_type": "code",
   "execution_count": 12,
   "metadata": {},
   "outputs": [],
   "source": [
    "y_pred = saved_model.predict_classes(x_test_n)+5"
   ]
  },
  {
   "cell_type": "code",
   "execution_count": 14,
   "metadata": {},
   "outputs": [
    {
     "data": {
      "text/plain": [
       "7"
      ]
     },
     "execution_count": 14,
     "metadata": {},
     "output_type": "execute_result"
    }
   ],
   "source": [
    "y_pred[0]"
   ]
  },
  {
   "cell_type": "code",
   "execution_count": 15,
   "metadata": {},
   "outputs": [],
   "source": [
    "y_prob = saved_model.predict(x_test_n)"
   ]
  },
  {
   "cell_type": "code",
   "execution_count": 21,
   "metadata": {},
   "outputs": [
    {
     "name": "stdout",
     "output_type": "stream",
     "text": [
      "[0.00891332 0.00735935 0.8693758  0.01363309 0.10071845]\n",
      "0.8693758\n",
      "7\n"
     ]
    }
   ],
   "source": [
    "print(y_prob[0,:])\n",
    "print(np.max(y_prob[0,:]))\n",
    "print(np.argmax(y_prob[0,:])+5)"
   ]
  },
  {
   "cell_type": "code",
   "execution_count": 27,
   "metadata": {},
   "outputs": [
    {
     "data": {
      "text/plain": [
       "0.988274017691833"
      ]
     },
     "execution_count": 27,
     "metadata": {},
     "output_type": "execute_result"
    }
   ],
   "source": [
    "np.argwhere((y_pred - y_test)==0).shape[0]/len(y_test)"
   ]
  },
  {
   "cell_type": "code",
   "execution_count": 28,
   "metadata": {},
   "outputs": [
    {
     "data": {
      "image/png": "[encoded data removed]",
      "text/plain": [
       "<Figure size 216x216 with 1 Axes>"
      ]
     },
     "metadata": {
      "needs_background": "light"
     },
     "output_type": "display_data"
    },
    {
     "data": {
      "image/png": "[encoded data removed]",
      "text/plain": [
       "<Figure size 216x216 with 1 Axes>"
      ]
     },
     "metadata": {
      "needs_background": "light"
     },
     "output_type": "display_data"
    },
    {
     "data": {
      "image/png": "[encoded data removed]",
      "text/plain": [
       "<Figure size 216x216 with 1 Axes>"
      ]
     },
     "metadata": {
      "needs_background": "light"
     },
     "output_type": "display_data"
    },
    {
     "data": {
      "image/png": "[encoded data removed]",
      "text/plain": [
       "<Figure size 216x216 with 1 Axes>"
      ]
     },
     "metadata": {
      "needs_background": "light"
     },
     "output_type": "display_data"
    }
   ],
   "source": [
    "pick_and_show_image(x_test_n, y_pred);\n",
    "pick_and_show_image(x_test_n, y_pred);\n",
    "pick_and_show_image(x_test_n, y_pred);\n",
    "pick_and_show_image(x_test_n, y_pred);"
   ]
  },
  {
   "cell_type": "code",
   "execution_count": 15,
   "metadata": {},
   "outputs": [],
   "source": [
    "import matplotlib.pyplot as plt"
   ]
  },
  {
   "cell_type": "code",
   "execution_count": 16,
   "metadata": {},
   "outputs": [],
   "source": [
    "batch_size = 32\n",
    "generated_images = x_test_n[:batch_size, :, :, :]\n",
    "# predictions\n",
    "y_prob = saved_model.predict(generated_images)\n",
    "for i in range(batch_size):\n",
    "    label = np.argmax(y_prob[i,:])+5\n",
    "    prob = np.max(y_prob[i,:])\n",
    "    # PLOT\n",
    "    plt.subplot(4, 8, 1 + i)\n",
    "    plt.axis('off')\n",
    "    plt.imshow(generated_images[i, :, :, 0], cmap='gray_r')\n",
    "    plt.title(\"L={}\\nP={:.2f}\".format(label, prob), size=10)\n",
    "plt.savefig(os.path.join(\"gan_evaluation\", \"test\"), dpi=100)\n",
    "plt.close()\n",
    "    \n",
    "        "
   ]
  },
  {
   "cell_type": "code",
   "execution_count": null,
   "metadata": {},
   "outputs": [],
   "source": []
  }
 ],
 "metadata": {
  "kernelspec": {
   "display_name": "Python 3",
   "language": "python",
   "name": "python3"
  },
  "language_info": {
   "codemirror_mode": {
    "name": "ipython",
    "version": 3
   },
   "file_extension": ".py",
   "mimetype": "text/x-python",
   "name": "python",
   "nbconvert_exporter": "python",
   "pygments_lexer": "ipython3",
   "version": "3.7.6"
  }
 },
 "nbformat": 4,
 "nbformat_minor": 4
}
