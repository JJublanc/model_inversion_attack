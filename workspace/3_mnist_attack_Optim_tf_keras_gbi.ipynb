{
 "cells": [
  {
   "cell_type": "markdown",
   "metadata": {},
   "source": [
    "# Privacy - attack model - part1 : Wasserstein GAN\n",
    "\n",
    "reference for the WGAN : https://machinelearningmastery.com/how-to-code-a-wasserstein-generative-adversarial-network-wgan-from-scratch/"
   ]
  },
  {
   "cell_type": "markdown",
   "metadata": {},
   "source": [
    "# Imports and Data"
   ]
  },
  {
   "cell_type": "code",
   "execution_count": 1,
   "metadata": {},
   "outputs": [],
   "source": [
    "%load_ext autoreload\n",
    "%autoreload 2\n",
    "\n",
    "from numpy import expand_dims\n",
    "from numpy import mean\n",
    "from numpy import ones\n",
    "from numpy.random import randn\n",
    "from numpy.random import randint\n",
    "import pandas as pd\n",
    "\n",
    "from tensorflow.keras.datasets.mnist import load_data\n",
    "from tensorflow.keras import backend\n",
    "from tensorflow.keras.optimizers import RMSprop\n",
    "from tensorflow.keras.models import load_model\n",
    "from tensorflow.keras.models import Sequential\n",
    "from tensorflow.keras.layers import Dense, Activation\n",
    "from tensorflow.keras.layers import Reshape\n",
    "from tensorflow.keras.layers import Flatten\n",
    "from tensorflow.keras.layers import Conv2D\n",
    "from tensorflow.keras.layers import Conv2DTranspose\n",
    "from tensorflow.keras.layers import LeakyReLU\n",
    "from tensorflow.keras.layers import BatchNormalization\n",
    "from tensorflow.keras import Input\n",
    "from tensorflow.keras.models import Model\n",
    "from tensorflow.keras.layers import Dense\n",
    "from tensorflow.keras.layers import Add\n",
    "from tensorflow.keras import optimizers\n",
    "from tensorflow.keras import losses\n",
    "from tensorflow.keras.initializers import RandomNormal\n",
    "\n",
    "from tensorflow.keras.datasets import mnist\n",
    "from matplotlib import pyplot\n",
    "import numpy as np\n",
    "import os\n",
    "import re\n",
    "import matplotlib.pyplot as plt\n",
    "\n",
    "os.sys.path.append(\"./src\")\n",
    "from utils import plot_img\n",
    "from utils import load_mnist_data\n",
    "from utils import pick_and_show_image\n",
    "from models import define_critic\n",
    "\n",
    "from models import define_critic\n",
    "from models import generate_latent_points"
   ]
  },
  {
   "cell_type": "markdown",
   "metadata": {},
   "source": [
    "# 1. Load private data"
   ]
  },
  {
   "cell_type": "code",
   "execution_count": 2,
   "metadata": {},
   "outputs": [],
   "source": [
    "# x_train, y_train, x_test, y_test = load_mnist_data(\"private\")"
   ]
  },
  {
   "cell_type": "markdown",
   "metadata": {},
   "source": [
    "# 2. Load models"
   ]
  },
  {
   "cell_type": "markdown",
   "metadata": {},
   "source": [
    "## 2.1 load the model attacked"
   ]
  },
  {
   "cell_type": "code",
   "execution_count": 3,
   "metadata": {},
   "outputs": [
    {
     "name": "stdout",
     "output_type": "stream",
     "text": [
      "WARNING:tensorflow:From /opt/conda/lib/python3.7/site-packages/tensorflow_core/python/ops/init_ops.py:97: calling GlorotUniform.__init__ (from tensorflow.python.ops.init_ops) with dtype is deprecated and will be removed in a future version.\n",
      "Instructions for updating:\n",
      "Call initializer instance with the dtype argument instead of passing it to the constructor\n",
      "WARNING:tensorflow:From /opt/conda/lib/python3.7/site-packages/tensorflow_core/python/ops/init_ops.py:97: calling Zeros.__init__ (from tensorflow.python.ops.init_ops) with dtype is deprecated and will be removed in a future version.\n",
      "Instructions for updating:\n",
      "Call initializer instance with the dtype argument instead of passing it to the constructor\n",
      "WARNING:tensorflow:From /opt/conda/lib/python3.7/site-packages/tensorflow_core/python/ops/resource_variable_ops.py:1630: calling BaseResourceVariable.__init__ (from tensorflow.python.ops.resource_variable_ops) with constraint is deprecated and will be removed in a future version.\n",
      "Instructions for updating:\n",
      "If using Keras pass *_constraint arguments to layers.\n"
     ]
    }
   ],
   "source": [
    "target_model = load_model(\"model/target_model_1583961212.741507.h5\")"
   ]
  },
  {
   "cell_type": "markdown",
   "metadata": {},
   "source": [
    "## 2.2 load the critic"
   ]
  },
  {
   "cell_type": "markdown",
   "metadata": {},
   "source": [
    "We choose the id of the model. For example we choose the last one"
   ]
  },
  {
   "cell_type": "markdown",
   "metadata": {},
   "source": [
    "As the critic model is customed we build up a new model with the same architecture as the critic, load the weights of the one saved and load them into the new one."
   ]
  },
  {
   "cell_type": "code",
   "execution_count": 4,
   "metadata": {},
   "outputs": [
    {
     "name": "stdout",
     "output_type": "stream",
     "text": [
      "WARNING:tensorflow:From /opt/conda/lib/python3.7/site-packages/tensorflow_core/python/keras/initializers.py:143: calling RandomNormal.__init__ (from tensorflow.python.ops.init_ops) with dtype is deprecated and will be removed in a future version.\n",
      "Instructions for updating:\n",
      "Call initializer instance with the dtype argument instead of passing it to the constructor\n"
     ]
    }
   ],
   "source": [
    "model_id = 13770\n",
    "attack_critic_model = define_critic()\n",
    "attack_critic_model.load_weights(\"model/attack_critic_model_weights_\" + str(model_id) + \".h5\")\n",
    "attack_critic_model._name = \"attack_critic_model\""
   ]
  },
  {
   "cell_type": "code",
   "execution_count": 5,
   "metadata": {},
   "outputs": [
    {
     "name": "stdout",
     "output_type": "stream",
     "text": [
      "attack_critic_model\n"
     ]
    }
   ],
   "source": [
    "print(attack_critic_model.name)"
   ]
  },
  {
   "cell_type": "markdown",
   "metadata": {},
   "source": [
    "## 2.3 load the gan"
   ]
  },
  {
   "cell_type": "markdown",
   "metadata": {},
   "source": [
    "We use two gan with different names so that the model do not have the same layers' name when combined in the optimization model"
   ]
  },
  {
   "cell_type": "code",
   "execution_count": 6,
   "metadata": {},
   "outputs": [
    {
     "name": "stdout",
     "output_type": "stream",
     "text": [
      "WARNING:tensorflow:From /opt/conda/lib/python3.7/site-packages/tensorflow_core/python/ops/init_ops.py:97: calling Ones.__init__ (from tensorflow.python.ops.init_ops) with dtype is deprecated and will be removed in a future version.\n",
      "Instructions for updating:\n",
      "Call initializer instance with the dtype argument instead of passing it to the constructor\n",
      "WARNING:tensorflow:No training configuration found in save file: the model was *not* compiled. Compile it manually.\n",
      "attack_gan_model_1\n",
      "WARNING:tensorflow:No training configuration found in save file: the model was *not* compiled. Compile it manually.\n",
      "attack_gan_model_2\n"
     ]
    }
   ],
   "source": [
    "attack_gan_model_1 = load_model(\"model/attack_gan_model_\" + str(model_id) + \".h5\")\n",
    "attack_gan_model_1._name = \"attack_gan_model_1\"\n",
    "print(attack_gan_model_1.name)\n",
    "\n",
    "attack_gan_model_2 = load_model(\"model/attack_gan_model_\" + str(model_id) + \".h5\")\n",
    "attack_gan_model_2._name = \"attack_gan_model_2\"\n",
    "print(attack_gan_model_2.name)"
   ]
  },
  {
   "cell_type": "markdown",
   "metadata": {},
   "source": [
    "# 3. Define optimization process"
   ]
  },
  {
   "cell_type": "markdown",
   "metadata": {},
   "source": [
    "## 3.1 Define the model"
   ]
  },
  {
   "cell_type": "markdown",
   "metadata": {},
   "source": [
    "We design a model which intermediate layer is of the dimension of the latent space. We want to generate a point in the latent space (__x__) that makes the generator produce a credible image (hand written-digit-like) which will be classified by the target model as the target label.\n",
    "The outputs of the model are chosen to build a loss designed to perform this optimization program :\n",
    "- __attack_critic_model(attack_gan_model_1(x))__ which the critic of the image generated by the GAN, the more the image is credible, the higher will be this output ;\n",
    "- __target_model(attack_gan_model_2(x))__ which the class predicted by the target model, this one will be used to compute a difference with the label targetted"
   ]
  },
  {
   "cell_type": "code",
   "execution_count": 7,
   "metadata": {},
   "outputs": [],
   "source": [
    "def create_new_model_optim(random_init_dim=1, \n",
    "                           attack_critic_model=attack_critic_model, \n",
    "                           attack_gan_model_1=attack_gan_model_1, \n",
    "                           attack_gan_model_2=attack_gan_model_2):\n",
    "    \n",
    "    # generate a point in the latent space\n",
    "    main_input = Input(shape = (random_init_dim, ), name='main_input')\n",
    "    x = Dense(50,\n",
    "              activation='linear',\n",
    "              kernel_initializer = RandomNormal(mean=0.0, stddev=1, seed=None),\n",
    "              name = \"gen_attack_img\")(main_input)\n",
    "    gen_latent_values = Model(main_input, x)\n",
    "\n",
    "    # build up the model with the outputs that will be used to compute the loss\n",
    "    model = Model(inputs=main_input, outputs = [attack_critic_model(attack_gan_model_1(x)),\n",
    "                                                target_model(attack_gan_model_2(x))])\n",
    "    print(model.summary())\n",
    "    return model, gen_latent_values"
   ]
  },
  {
   "cell_type": "markdown",
   "metadata": {},
   "source": [
    "Only one layer should be trainable to perform the optimization process. If not we will retrain our models."
   ]
  },
  {
   "cell_type": "code",
   "execution_count": 8,
   "metadata": {},
   "outputs": [],
   "source": [
    "def freeze_not_optim_layers(model):\n",
    "    for layer in model.layers:\n",
    "        if layer.name == \"gen_attack_img\":\n",
    "            layer.trainable=True\n",
    "        else:\n",
    "            layer.trainable=False\n",
    "        # print(\"layer : {}, trainable {}\".format(layer.name, layer.trainable))\n",
    "\n",
    "    return model"
   ]
  },
  {
   "cell_type": "markdown",
   "metadata": {},
   "source": [
    "## 3.2 Define the loss"
   ]
  },
  {
   "cell_type": "markdown",
   "metadata": {},
   "source": [
    "The loss is compound of two parts :\n",
    "- the credibility : is the image reconstructed a credible hand written digit ?\n",
    "- the class proximity : is the class of the reconstructed image, the one targetted ?"
   ]
  },
  {
   "cell_type": "code",
   "execution_count": 9,
   "metadata": {},
   "outputs": [],
   "source": [
    "def loss_optim_fn(target, lambda_):\n",
    "    def loss_optim(y_true, y_pred):\n",
    "        # target.shape -> (5,)\n",
    "        # y_pred is a list with\n",
    "        # y_pred[0].shape -> (500, 1)\n",
    "        # y_pred[1].shape -> (500, 5)\n",
    "        # credibility part : this part caracterize the credibility of the reconstructed image in the space of the public data\n",
    "        credibility = backend.mean(y_pred[0], axis=0)\n",
    "        # credibility.shape -> (1,)\n",
    "        \n",
    "        # proximity part : define the absolute difference between the predicted for the reconstructed image and the class targetted\n",
    "        # backend.mean(y_pred[1], axis=0).shape -> (5,)\n",
    "        proximity_to_target = backend.mean(y_pred[1], axis=0) - target\n",
    "        proximity_to_target = backend.abs(proximity_to_target)\n",
    "        proximity_to_target = backend.mean(proximity_to_target)/2\n",
    "        return backend.sum([credibility, lambda_*backend.log(proximity_to_target)], axis=-1)\n",
    "    return loss_optim"
   ]
  },
  {
   "cell_type": "markdown",
   "metadata": {},
   "source": [
    "# 4. Launch the whole process"
   ]
  },
  {
   "cell_type": "code",
   "execution_count": 10,
   "metadata": {},
   "outputs": [
    {
     "name": "stdout",
     "output_type": "stream",
     "text": [
      "Model: \"model_1\"\n",
      "__________________________________________________________________________________________________\n",
      "Layer (type)                    Output Shape         Param #     Connected to                     \n",
      "==================================================================================================\n",
      "main_input (InputLayer)         [(None, 1)]          0                                            \n",
      "__________________________________________________________________________________________________\n",
      "gen_attack_img (Dense)          (None, 50)           100         main_input[0][0]                 \n",
      "__________________________________________________________________________________________________\n",
      "attack_gan_model_1 (Sequential) (None, 28, 28, 1)    851713      gen_attack_img[0][0]             \n",
      "__________________________________________________________________________________________________\n",
      "attack_gan_model_2 (Sequential) (None, 28, 28, 1)    851713      gen_attack_img[0][0]             \n",
      "__________________________________________________________________________________________________\n",
      "attack_critic_model (Sequential (None, 1)            70337       attack_gan_model_1[1][0]         \n",
      "__________________________________________________________________________________________________\n",
      "sequential (Sequential)         (None, 5)            420997      attack_gan_model_2[1][0]         \n",
      "==================================================================================================\n",
      "Total params: 2,194,860\n",
      "Trainable params: 2,193,580\n",
      "Non-trainable params: 1,280\n",
      "__________________________________________________________________________________________________\n",
      "None\n"
     ]
    }
   ],
   "source": [
    "# optim parameters\n",
    "lambda_ = 100\n",
    "n_epochs = 150\n",
    "\n",
    "# inputs are constants and ouputs are not used\n",
    "x = np.full((500, 1), 1)\n",
    "model, _ = create_new_model_optim()\n",
    "y = model.predict(np.full((500, 1), 1)) # we do not use these values, there are just here to avoid errors when training the model"
   ]
  },
  {
   "cell_type": "code",
   "execution_count": 11,
   "metadata": {},
   "outputs": [
    {
     "data": {
      "text/plain": [
       "(500, 1)"
      ]
     },
     "execution_count": 11,
     "metadata": {},
     "output_type": "execute_result"
    }
   ],
   "source": [
    "x.shape"
   ]
  },
  {
   "cell_type": "markdown",
   "metadata": {},
   "source": [
    "## 4.2 Set parameters"
   ]
  },
  {
   "cell_type": "code",
   "execution_count": null,
   "metadata": {},
   "outputs": [],
   "source": [
    "# img, label = pick_and_show_image(x_train, y_train)\n",
    "# target_probs = target_model.predict(np.reshape(img,(1,28,28,1)))\n",
    "# print(\"target probs : {}\".format(target_probs[0]))"
   ]
  },
  {
   "cell_type": "code",
   "execution_count": 12,
   "metadata": {},
   "outputs": [
    {
     "data": {
      "text/plain": [
       "array([0, 0, 1, 0, 0])"
      ]
     },
     "execution_count": 12,
     "metadata": {},
     "output_type": "execute_result"
    }
   ],
   "source": [
    "target_probs = np.array([0, 0, 1, 0, 0])\n",
    "target_probs"
   ]
  },
  {
   "cell_type": "code",
   "execution_count": 22,
   "metadata": {},
   "outputs": [
    {
     "data": {
      "text/plain": [
       "(5,)"
      ]
     },
     "execution_count": 22,
     "metadata": {},
     "output_type": "execute_result"
    }
   ],
   "source": [
    "target_probs.shape"
   ]
  },
  {
   "cell_type": "markdown",
   "metadata": {},
   "source": [
    "## 4.2 Make the optimization"
   ]
  },
  {
   "cell_type": "markdown",
   "metadata": {},
   "source": [
    "The optimization is repeated 5 times. The trial with best results is chosen."
   ]
  },
  {
   "cell_type": "code",
   "execution_count": 13,
   "metadata": {
    "collapsed": true,
    "jupyter": {
     "outputs_hidden": true
    }
   },
   "outputs": [
    {
     "name": "stdout",
     "output_type": "stream",
     "text": [
      "Model: \"model_3\"\n",
      "__________________________________________________________________________________________________\n",
      "Layer (type)                    Output Shape         Param #     Connected to                     \n",
      "==================================================================================================\n",
      "main_input (InputLayer)         [(None, 1)]          0                                            \n",
      "__________________________________________________________________________________________________\n",
      "gen_attack_img (Dense)          (None, 50)           100         main_input[0][0]                 \n",
      "__________________________________________________________________________________________________\n",
      "attack_gan_model_1 (Sequential) (None, 28, 28, 1)    851713      gen_attack_img[0][0]             \n",
      "__________________________________________________________________________________________________\n",
      "attack_gan_model_2 (Sequential) (None, 28, 28, 1)    851713      gen_attack_img[0][0]             \n",
      "__________________________________________________________________________________________________\n",
      "attack_critic_model (Sequential (None, 1)            70337       attack_gan_model_1[2][0]         \n",
      "__________________________________________________________________________________________________\n",
      "sequential (Sequential)         (None, 5)            420997      attack_gan_model_2[2][0]         \n",
      "==================================================================================================\n",
      "Total params: 2,194,860\n",
      "Trainable params: 2,193,580\n",
      "Non-trainable params: 1,280\n",
      "__________________________________________________________________________________________________\n",
      "None\n",
      "Train on 500 samples\n",
      "Epoch 1/150\n",
      "500/500 [==============================] - 1s 2ms/sample - loss: -4031.0775 - attack_critic_model_loss: -3852.0776 - sequential_loss: -183.0581\n",
      "Epoch 2/150\n",
      "500/500 [==============================] - 1s 1ms/sample - loss: -4236.2498 - attack_critic_model_loss: -4053.6790 - sequential_loss: -183.0581\n",
      "Epoch 3/150\n",
      "500/500 [==============================] - 1s 1ms/sample - loss: -4270.0545 - attack_critic_model_loss: -4087.2495 - sequential_loss: -183.0581\n",
      "Epoch 4/150\n",
      "500/500 [==============================] - 1s 1ms/sample - loss: -4290.9748 - attack_critic_model_loss: -4108.0825 - sequential_loss: -183.0581\n",
      "Epoch 5/150\n",
      "500/500 [==============================] - 1s 1ms/sample - loss: -4304.3097 - attack_critic_model_loss: -4121.3916 - sequential_loss: -183.0581\n",
      "Epoch 6/150\n",
      "500/500 [==============================] - 1s 1ms/sample - loss: -4319.6547 - attack_critic_model_loss: -4136.8179 - sequential_loss: -183.0581\n",
      "Epoch 7/150\n",
      "500/500 [==============================] - 1s 1ms/sample - loss: -4339.0486 - attack_critic_model_loss: -4156.1807 - sequential_loss: -183.0581\n",
      "Epoch 8/150\n",
      "500/500 [==============================] - 1s 1ms/sample - loss: -4354.4692 - attack_critic_model_loss: -4171.5493 - sequential_loss: -183.0581\n",
      "Epoch 9/150\n",
      "500/500 [==============================] - 1s 1ms/sample - loss: -4367.0893 - attack_critic_model_loss: -4184.1885 - sequential_loss: -183.0581\n",
      "Epoch 10/150\n",
      "500/500 [==============================] - 1s 1ms/sample - loss: -4381.8295 - attack_critic_model_loss: -4198.9468 - sequential_loss: -183.0581\n",
      "Epoch 11/150\n",
      "500/500 [==============================] - 1s 1ms/sample - loss: -4397.1205 - attack_critic_model_loss: -4214.2329 - sequential_loss: -183.0581\n",
      "Epoch 12/150\n",
      "500/500 [==============================] - 1s 1ms/sample - loss: -4413.2595 - attack_critic_model_loss: -4230.3960 - sequential_loss: -183.0581\n",
      "Epoch 13/150\n",
      "500/500 [==============================] - 1s 1ms/sample - loss: -4431.5441 - attack_critic_model_loss: -4248.7095 - sequential_loss: -183.0581\n",
      "Epoch 14/150\n",
      "500/500 [==============================] - 1s 1ms/sample - loss: -4452.3074 - attack_critic_model_loss: -4269.4980 - sequential_loss: -183.0581\n",
      "Epoch 15/150\n",
      "500/500 [==============================] - 1s 1ms/sample - loss: -4472.5290 - attack_critic_model_loss: -4289.6704 - sequential_loss: -183.0581\n",
      "Epoch 16/150\n",
      "500/500 [==============================] - 1s 1ms/sample - loss: -4489.3989 - attack_critic_model_loss: -4306.5039 - sequential_loss: -183.0581\n",
      "Epoch 17/150\n",
      "500/500 [==============================] - 1s 1ms/sample - loss: -4503.3516 - attack_critic_model_loss: -4320.4482 - sequential_loss: -183.0581\n",
      "Epoch 18/150\n",
      "500/500 [==============================] - 1s 1ms/sample - loss: -4516.9702 - attack_critic_model_loss: -4334.0591 - sequential_loss: -183.0581\n",
      "Epoch 19/150\n",
      "500/500 [==============================] - 1s 1ms/sample - loss: -4529.4550 - attack_critic_model_loss: -4346.5381 - sequential_loss: -183.0581\n",
      "Epoch 20/150\n",
      "500/500 [==============================] - 1s 1ms/sample - loss: -4542.9276 - attack_critic_model_loss: -4360.0420 - sequential_loss: -183.0581\n",
      "Epoch 21/150\n",
      "500/500 [==============================] - 1s 1ms/sample - loss: -4558.9591 - attack_critic_model_loss: -4376.0845 - sequential_loss: -183.0581\n",
      "Epoch 22/150\n",
      "500/500 [==============================] - 1s 1ms/sample - loss: -4574.6777 - attack_critic_model_loss: -4391.7910 - sequential_loss: -183.0581\n",
      "Epoch 23/150\n",
      "500/500 [==============================] - 1s 1ms/sample - loss: -4590.3349 - attack_critic_model_loss: -4407.4575 - sequential_loss: -183.0581\n",
      "Epoch 24/150\n",
      "500/500 [==============================] - 1s 1ms/sample - loss: -4607.1006 - attack_critic_model_loss: -4424.2368 - sequential_loss: -183.0581\n",
      "Epoch 25/150\n",
      "500/500 [==============================] - 1s 1ms/sample - loss: -4624.9966 - attack_critic_model_loss: -4442.1514 - sequential_loss: -183.0581\n",
      "Epoch 26/150\n",
      "500/500 [==============================] - 1s 1ms/sample - loss: -4643.6577 - attack_critic_model_loss: -4460.8130 - sequential_loss: -183.0581\n",
      "Epoch 27/150\n",
      "500/500 [==============================] - 1s 1ms/sample - loss: -4662.7124 - attack_critic_model_loss: -4479.8604 - sequential_loss: -183.0581\n",
      "Epoch 28/150\n",
      "500/500 [==============================] - 1s 1ms/sample - loss: -4680.9291 - attack_critic_model_loss: -4498.0630 - sequential_loss: -183.0581\n",
      "Epoch 29/150\n",
      "500/500 [==============================] - 1s 1ms/sample - loss: -4696.5405 - attack_critic_model_loss: -4513.6333 - sequential_loss: -183.0581\n",
      "Epoch 30/150\n",
      "500/500 [==============================] - 1s 1ms/sample - loss: -4709.4649 - attack_critic_model_loss: -4526.5498 - sequential_loss: -183.0581\n",
      "Epoch 31/150\n",
      "500/500 [==============================] - 1s 1ms/sample - loss: -4721.2306 - attack_critic_model_loss: -4538.2842 - sequential_loss: -183.0581\n",
      "Epoch 32/150\n",
      "500/500 [==============================] - 1s 1ms/sample - loss: -4730.6003 - attack_critic_model_loss: -4547.6489 - sequential_loss: -183.0581\n",
      "Epoch 33/150\n",
      "500/500 [==============================] - 1s 1ms/sample - loss: -4740.4718 - attack_critic_model_loss: -4557.5234 - sequential_loss: -183.0581\n",
      "Epoch 34/150\n",
      "500/500 [==============================] - 1s 1ms/sample - loss: -4749.3163 - attack_critic_model_loss: -4566.3394 - sequential_loss: -183.0581\n",
      "Epoch 35/150\n",
      "500/500 [==============================] - 1s 1ms/sample - loss: -4756.2145 - attack_critic_model_loss: -4573.2241 - sequential_loss: -183.0581\n",
      "Epoch 36/150\n",
      "500/500 [==============================] - 1s 1ms/sample - loss: -4761.9404 - attack_critic_model_loss: -4578.9375 - sequential_loss: -183.0581\n",
      "Epoch 37/150\n",
      "500/500 [==============================] - 1s 1ms/sample - loss: -4766.7689 - attack_critic_model_loss: -4583.7637 - sequential_loss: -183.0581\n",
      "Epoch 38/150\n",
      "500/500 [==============================] - 1s 1ms/sample - loss: -4771.6877 - attack_critic_model_loss: -4588.6846 - sequential_loss: -183.0581\n",
      "Epoch 39/150\n",
      "500/500 [==============================] - 1s 1ms/sample - loss: -4776.2172 - attack_critic_model_loss: -4593.2085 - sequential_loss: -183.0581\n",
      "Epoch 40/150\n",
      "500/500 [==============================] - 1s 1ms/sample - loss: -4780.6037 - attack_critic_model_loss: -4597.5957 - sequential_loss: -183.0581\n",
      "Epoch 41/150\n",
      "500/500 [==============================] - 1s 1ms/sample - loss: -4785.2361 - attack_critic_model_loss: -4602.2373 - sequential_loss: -183.0581\n",
      "Epoch 42/150\n",
      "500/500 [==============================] - 1s 1ms/sample - loss: -4790.8345 - attack_critic_model_loss: -4607.8398 - sequential_loss: -183.0581\n",
      "Epoch 43/150\n",
      "500/500 [==============================] - 1s 1ms/sample - loss: -4796.3191 - attack_critic_model_loss: -4613.3145 - sequential_loss: -183.0581\n",
      "Epoch 44/150\n",
      "500/500 [==============================] - 1s 1ms/sample - loss: -4800.5699 - attack_critic_model_loss: -4617.5552 - sequential_loss: -183.0581\n",
      "Epoch 45/150\n",
      "500/500 [==============================] - 1s 1ms/sample - loss: -4804.4953 - attack_critic_model_loss: -4621.4819 - sequential_loss: -183.0581\n",
      "Epoch 46/150\n",
      "500/500 [==============================] - 1s 1ms/sample - loss: -4808.3004 - attack_critic_model_loss: -4625.2822 - sequential_loss: -183.0581\n",
      "Epoch 47/150\n",
      "500/500 [==============================] - 1s 1ms/sample - loss: -4811.8397 - attack_critic_model_loss: -4628.8228 - sequential_loss: -183.0581\n",
      "Epoch 48/150\n",
      "500/500 [==============================] - 1s 1ms/sample - loss: -4815.6793 - attack_critic_model_loss: -4632.6680 - sequential_loss: -183.0581\n",
      "Epoch 49/150\n",
      "500/500 [==============================] - 1s 1ms/sample - loss: -4820.0461 - attack_critic_model_loss: -4637.0513 - sequential_loss: -183.0581\n",
      "Epoch 50/150\n",
      "500/500 [==============================] - 1s 1ms/sample - loss: -4826.1402 - attack_critic_model_loss: -4643.1445 - sequential_loss: -183.0581\n",
      "Epoch 51/150\n",
      "500/500 [==============================] - 1s 1ms/sample - loss: -4830.7522 - attack_critic_model_loss: -4647.7339 - sequential_loss: -183.0581\n",
      "Epoch 52/150\n",
      "500/500 [==============================] - 1s 1ms/sample - loss: -4834.2619 - attack_critic_model_loss: -4651.2427 - sequential_loss: -183.0581\n",
      "Epoch 53/150\n",
      "500/500 [==============================] - 1s 1ms/sample - loss: -4837.4377 - attack_critic_model_loss: -4654.4092 - sequential_loss: -183.0581\n",
      "Epoch 54/150\n",
      "500/500 [==============================] - 1s 1ms/sample - loss: -4839.9894 - attack_critic_model_loss: -4656.9585 - sequential_loss: -183.0581\n",
      "Epoch 55/150\n",
      "500/500 [==============================] - 1s 1ms/sample - loss: -4842.2979 - attack_critic_model_loss: -4659.2656 - sequential_loss: -183.0581\n",
      "Epoch 56/150\n",
      "500/500 [==============================] - 1s 1ms/sample - loss: -4844.5420 - attack_critic_model_loss: -4661.5093 - sequential_loss: -183.0581\n",
      "Epoch 57/150\n",
      "500/500 [==============================] - 1s 1ms/sample - loss: -4846.6338 - attack_critic_model_loss: -4663.5962 - sequential_loss: -183.0581\n",
      "Epoch 58/150\n",
      "500/500 [==============================] - 1s 1ms/sample - loss: -4848.3460 - attack_critic_model_loss: -4665.3062 - sequential_loss: -183.0581\n",
      "Epoch 59/150\n",
      "500/500 [==============================] - 1s 1ms/sample - loss: -4850.0593 - attack_critic_model_loss: -4667.0215 - sequential_loss: -183.0581\n",
      "Epoch 60/150\n",
      "500/500 [==============================] - 1s 1ms/sample - loss: -4851.9344 - attack_critic_model_loss: -4668.8994 - sequential_loss: -183.0581\n",
      "Epoch 61/150\n",
      "500/500 [==============================] - 1s 1ms/sample - loss: -4853.8556 - attack_critic_model_loss: -4670.8184 - sequential_loss: -183.0581\n",
      "Epoch 62/150\n",
      "500/500 [==============================] - 1s 1ms/sample - loss: -4855.6822 - attack_critic_model_loss: -4672.6460 - sequential_loss: -183.0581\n",
      "Epoch 63/150\n",
      "500/500 [==============================] - 1s 1ms/sample - loss: -4857.7699 - attack_critic_model_loss: -4674.7451 - sequential_loss: -183.0581\n",
      "Epoch 64/150\n",
      "500/500 [==============================] - 1s 1ms/sample - loss: -4860.5509 - attack_critic_model_loss: -4677.5176 - sequential_loss: -183.0581\n",
      "Epoch 65/150\n",
      "500/500 [==============================] - 1s 1ms/sample - loss: -4862.6402 - attack_critic_model_loss: -4679.6025 - sequential_loss: -183.0581\n",
      "Epoch 66/150\n",
      "500/500 [==============================] - 1s 1ms/sample - loss: -4864.2281 - attack_critic_model_loss: -4681.1846 - sequential_loss: -183.0581\n",
      "Epoch 67/150\n",
      "500/500 [==============================] - 1s 1ms/sample - loss: -4865.4533 - attack_critic_model_loss: -4682.4082 - sequential_loss: -183.0581\n",
      "Epoch 68/150\n",
      "500/500 [==============================] - 1s 1ms/sample - loss: -4866.5791 - attack_critic_model_loss: -4683.5342 - sequential_loss: -183.0581\n",
      "Epoch 69/150\n",
      "500/500 [==============================] - 1s 1ms/sample - loss: -4867.8296 - attack_critic_model_loss: -4684.7891 - sequential_loss: -183.0581\n",
      "Epoch 70/150\n",
      "500/500 [==============================] - 1s 1ms/sample - loss: -4869.2882 - attack_critic_model_loss: -4686.2456 - sequential_loss: -183.0581\n",
      "Epoch 71/150\n",
      "500/500 [==============================] - 1s 1ms/sample - loss: -4870.6224 - attack_critic_model_loss: -4687.5776 - sequential_loss: -183.0581\n",
      "Epoch 72/150\n",
      "500/500 [==============================] - 1s 1ms/sample - loss: -4871.7167 - attack_critic_model_loss: -4688.6699 - sequential_loss: -183.0581\n",
      "Epoch 73/150\n",
      "500/500 [==============================] - 1s 1ms/sample - loss: -4872.7237 - attack_critic_model_loss: -4689.6772 - sequential_loss: -183.0581\n",
      "Epoch 74/150\n",
      "500/500 [==============================] - 1s 1ms/sample - loss: -4873.6653 - attack_critic_model_loss: -4690.6162 - sequential_loss: -183.0581\n",
      "Epoch 75/150\n",
      "500/500 [==============================] - 1s 1ms/sample - loss: -4874.4199 - attack_critic_model_loss: -4691.3696 - sequential_loss: -183.0581\n",
      "Epoch 76/150\n",
      "500/500 [==============================] - 1s 1ms/sample - loss: -4875.0543 - attack_critic_model_loss: -4692.0034 - sequential_loss: -183.0581\n",
      "Epoch 77/150\n",
      "500/500 [==============================] - 1s 1ms/sample - loss: -4875.6105 - attack_critic_model_loss: -4692.5576 - sequential_loss: -183.0581\n",
      "Epoch 78/150\n",
      "500/500 [==============================] - 1s 1ms/sample - loss: -4876.1598 - attack_critic_model_loss: -4693.1094 - sequential_loss: -183.0581\n",
      "Epoch 79/150\n",
      "500/500 [==============================] - 1s 1ms/sample - loss: -4876.8222 - attack_critic_model_loss: -4693.7715 - sequential_loss: -183.0581\n",
      "Epoch 80/150\n",
      "500/500 [==============================] - 1s 1ms/sample - loss: -4877.4598 - attack_critic_model_loss: -4694.4082 - sequential_loss: -183.0581\n",
      "Epoch 81/150\n",
      "500/500 [==============================] - 1s 1ms/sample - loss: -4878.0148 - attack_critic_model_loss: -4694.9634 - sequential_loss: -183.0581\n",
      "Epoch 82/150\n",
      "500/500 [==============================] - 1s 1ms/sample - loss: -4878.5935 - attack_critic_model_loss: -4695.5415 - sequential_loss: -183.0581\n",
      "Epoch 83/150\n",
      "500/500 [==============================] - 1s 1ms/sample - loss: -4879.1252 - attack_critic_model_loss: -4696.0728 - sequential_loss: -183.0581\n",
      "Epoch 84/150\n",
      "500/500 [==============================] - 1s 1ms/sample - loss: -4879.6513 - attack_critic_model_loss: -4696.5991 - sequential_loss: -183.0581\n",
      "Epoch 85/150\n",
      "500/500 [==============================] - 1s 1ms/sample - loss: -4880.3381 - attack_critic_model_loss: -4697.2896 - sequential_loss: -183.0581\n",
      "Epoch 86/150\n",
      "500/500 [==============================] - 1s 1ms/sample - loss: -4881.0674 - attack_critic_model_loss: -4698.0161 - sequential_loss: -183.0581\n",
      "Epoch 87/150\n",
      "500/500 [==============================] - 1s 1ms/sample - loss: -4881.6803 - attack_critic_model_loss: -4698.6294 - sequential_loss: -183.0581\n",
      "Epoch 88/150\n",
      "500/500 [==============================] - 1s 1ms/sample - loss: -4882.3206 - attack_critic_model_loss: -4699.2690 - sequential_loss: -183.0581\n",
      "Epoch 89/150\n",
      "500/500 [==============================] - 1s 1ms/sample - loss: -4882.8808 - attack_critic_model_loss: -4699.8281 - sequential_loss: -183.0581\n",
      "Epoch 90/150\n",
      "500/500 [==============================] - 1s 1ms/sample - loss: -4883.3246 - attack_critic_model_loss: -4700.2710 - sequential_loss: -183.0581\n",
      "Epoch 91/150\n",
      "500/500 [==============================] - 1s 1ms/sample - loss: -4883.7018 - attack_critic_model_loss: -4700.6484 - sequential_loss: -183.0581\n",
      "Epoch 92/150\n",
      "500/500 [==============================] - 1s 1ms/sample - loss: -4884.0928 - attack_critic_model_loss: -4701.0391 - sequential_loss: -183.0581\n",
      "Epoch 93/150\n",
      "500/500 [==============================] - 1s 1ms/sample - loss: -4884.4885 - attack_critic_model_loss: -4701.4351 - sequential_loss: -183.0581\n",
      "Epoch 94/150\n",
      "500/500 [==============================] - 1s 1ms/sample - loss: -4884.9130 - attack_critic_model_loss: -4701.8608 - sequential_loss: -183.0581\n",
      "Epoch 95/150\n",
      "500/500 [==============================] - 1s 1ms/sample - loss: -4885.4501 - attack_critic_model_loss: -4702.3984 - sequential_loss: -183.0581\n",
      "Epoch 96/150\n",
      "500/500 [==============================] - 1s 1ms/sample - loss: -4886.0310 - attack_critic_model_loss: -4702.9795 - sequential_loss: -183.0581\n",
      "Epoch 97/150\n",
      "500/500 [==============================] - 1s 1ms/sample - loss: -4886.6009 - attack_critic_model_loss: -4703.5488 - sequential_loss: -183.0581\n",
      "Epoch 98/150\n",
      "500/500 [==============================] - 1s 1ms/sample - loss: -4887.1628 - attack_critic_model_loss: -4704.1104 - sequential_loss: -183.0581\n",
      "Epoch 99/150\n",
      "500/500 [==============================] - 1s 1ms/sample - loss: -4887.6443 - attack_critic_model_loss: -4704.5913 - sequential_loss: -183.0581\n",
      "Epoch 100/150\n",
      "500/500 [==============================] - 1s 1ms/sample - loss: -4888.1065 - attack_critic_model_loss: -4705.0537 - sequential_loss: -183.0581\n",
      "Epoch 101/150\n",
      "500/500 [==============================] - 1s 1ms/sample - loss: -4888.5339 - attack_critic_model_loss: -4705.4795 - sequential_loss: -183.0581\n",
      "Epoch 102/150\n",
      "500/500 [==============================] - 1s 1ms/sample - loss: -4888.9057 - attack_critic_model_loss: -4705.8511 - sequential_loss: -183.0581\n",
      "Epoch 103/150\n",
      "500/500 [==============================] - 1s 1ms/sample - loss: -4889.1921 - attack_critic_model_loss: -4706.1372 - sequential_loss: -183.0581\n",
      "Epoch 104/150\n",
      "500/500 [==============================] - 1s 1ms/sample - loss: -4889.4406 - attack_critic_model_loss: -4706.3843 - sequential_loss: -183.0581\n",
      "Epoch 105/150\n",
      "500/500 [==============================] - 1s 1ms/sample - loss: -4889.6585 - attack_critic_model_loss: -4706.6025 - sequential_loss: -183.0581\n",
      "Epoch 106/150\n",
      "500/500 [==============================] - 1s 1ms/sample - loss: -4889.8387 - attack_critic_model_loss: -4706.7822 - sequential_loss: -183.0581\n",
      "Epoch 107/150\n",
      "500/500 [==============================] - 1s 1ms/sample - loss: -4889.9803 - attack_critic_model_loss: -4706.9233 - sequential_loss: -183.0581\n",
      "Epoch 108/150\n",
      "500/500 [==============================] - 1s 1ms/sample - loss: -4890.0897 - attack_critic_model_loss: -4707.0332 - sequential_loss: -183.0581\n",
      "Epoch 109/150\n",
      "500/500 [==============================] - 1s 1ms/sample - loss: -4890.1829 - attack_critic_model_loss: -4707.1260 - sequential_loss: -183.0581\n",
      "Epoch 110/150\n",
      "500/500 [==============================] - 1s 1ms/sample - loss: -4890.2747 - attack_critic_model_loss: -4707.2163 - sequential_loss: -183.0581\n",
      "Epoch 111/150\n",
      "500/500 [==============================] - 1s 1ms/sample - loss: -4890.3550 - attack_critic_model_loss: -4707.2979 - sequential_loss: -183.0581\n",
      "Epoch 112/150\n",
      "500/500 [==============================] - 1s 1ms/sample - loss: -4890.4671 - attack_critic_model_loss: -4707.4106 - sequential_loss: -183.0581\n",
      "Epoch 113/150\n",
      "500/500 [==============================] - 1s 1ms/sample - loss: -4890.5827 - attack_critic_model_loss: -4707.5259 - sequential_loss: -183.0581\n",
      "Epoch 114/150\n",
      "500/500 [==============================] - 1s 1ms/sample - loss: -4890.7140 - attack_critic_model_loss: -4707.6577 - sequential_loss: -183.0581\n",
      "Epoch 115/150\n",
      "500/500 [==============================] - 1s 1ms/sample - loss: -4890.8647 - attack_critic_model_loss: -4707.8081 - sequential_loss: -183.0581\n",
      "Epoch 116/150\n",
      "500/500 [==============================] - 1s 1ms/sample - loss: -4890.9978 - attack_critic_model_loss: -4707.9414 - sequential_loss: -183.0581\n",
      "Epoch 117/150\n",
      "500/500 [==============================] - 1s 1ms/sample - loss: -4891.1267 - attack_critic_model_loss: -4708.0698 - sequential_loss: -183.0581\n",
      "Epoch 118/150\n",
      "500/500 [==============================] - 1s 1ms/sample - loss: -4891.2314 - attack_critic_model_loss: -4708.1743 - sequential_loss: -183.0581\n",
      "Epoch 119/150\n",
      "500/500 [==============================] - 1s 1ms/sample - loss: -4891.3193 - attack_critic_model_loss: -4708.2622 - sequential_loss: -183.0581\n",
      "Epoch 120/150\n",
      "500/500 [==============================] - 1s 1ms/sample - loss: -4891.3865 - attack_critic_model_loss: -4708.3286 - sequential_loss: -183.0581\n",
      "Epoch 121/150\n",
      "500/500 [==============================] - 1s 1ms/sample - loss: -4891.4283 - attack_critic_model_loss: -4708.3706 - sequential_loss: -183.0581\n",
      "Epoch 122/150\n",
      "500/500 [==============================] - 1s 1ms/sample - loss: -4891.4637 - attack_critic_model_loss: -4708.4062 - sequential_loss: -183.0581\n",
      "Epoch 123/150\n",
      "500/500 [==============================] - 1s 1ms/sample - loss: -4891.4930 - attack_critic_model_loss: -4708.4360 - sequential_loss: -183.0581\n",
      "Epoch 124/150\n",
      "500/500 [==============================] - 1s 1ms/sample - loss: -4891.5238 - attack_critic_model_loss: -4708.4658 - sequential_loss: -183.0581\n",
      "Epoch 125/150\n",
      "500/500 [==============================] - 1s 1ms/sample - loss: -4891.5450 - attack_critic_model_loss: -4708.4863 - sequential_loss: -183.0581\n",
      "Epoch 126/150\n",
      "500/500 [==============================] - 1s 1ms/sample - loss: -4891.5670 - attack_critic_model_loss: -4708.5093 - sequential_loss: -183.0581\n",
      "Epoch 127/150\n",
      "500/500 [==============================] - 1s 1ms/sample - loss: -4891.5880 - attack_critic_model_loss: -4708.5303 - sequential_loss: -183.0581\n",
      "Epoch 128/150\n",
      "500/500 [==============================] - 1s 1ms/sample - loss: -4891.6404 - attack_critic_model_loss: -4708.5835 - sequential_loss: -183.0581\n",
      "Epoch 129/150\n",
      "500/500 [==============================] - 1s 1ms/sample - loss: -4891.7216 - attack_critic_model_loss: -4708.6641 - sequential_loss: -183.0581\n",
      "Epoch 130/150\n",
      "500/500 [==============================] - 1s 1ms/sample - loss: -4891.8010 - attack_critic_model_loss: -4708.7432 - sequential_loss: -183.0581\n",
      "Epoch 131/150\n",
      "500/500 [==============================] - 1s 1ms/sample - loss: -4891.8856 - attack_critic_model_loss: -4708.8291 - sequential_loss: -183.0581\n",
      "Epoch 132/150\n",
      "500/500 [==============================] - 1s 1ms/sample - loss: -4891.9523 - attack_critic_model_loss: -4708.8945 - sequential_loss: -183.0581\n",
      "Epoch 133/150\n",
      "500/500 [==============================] - 1s 1ms/sample - loss: -4892.0028 - attack_critic_model_loss: -4708.9448 - sequential_loss: -183.0581\n",
      "Epoch 134/150\n",
      "500/500 [==============================] - 1s 1ms/sample - loss: -4892.0416 - attack_critic_model_loss: -4708.9839 - sequential_loss: -183.0581\n",
      "Epoch 135/150\n",
      "500/500 [==============================] - 1s 1ms/sample - loss: -4892.0788 - attack_critic_model_loss: -4709.0220 - sequential_loss: -183.0581\n",
      "Epoch 136/150\n",
      "500/500 [==============================] - 1s 1ms/sample - loss: -4892.1160 - attack_critic_model_loss: -4709.0586 - sequential_loss: -183.0581\n",
      "Epoch 137/150\n",
      "500/500 [==============================] - 1s 1ms/sample - loss: -4892.1534 - attack_critic_model_loss: -4709.0957 - sequential_loss: -183.0581\n",
      "Epoch 138/150\n",
      "500/500 [==============================] - 1s 1ms/sample - loss: -4892.1904 - attack_critic_model_loss: -4709.1333 - sequential_loss: -183.0581\n",
      "Epoch 139/150\n",
      "500/500 [==============================] - 1s 1ms/sample - loss: -4892.2308 - attack_critic_model_loss: -4709.1729 - sequential_loss: -183.0581\n",
      "Epoch 140/150\n",
      "500/500 [==============================] - 1s 1ms/sample - loss: -4892.2733 - attack_critic_model_loss: -4709.2158 - sequential_loss: -183.0581\n",
      "Epoch 141/150\n",
      "500/500 [==============================] - 1s 1ms/sample - loss: -4892.3148 - attack_critic_model_loss: -4709.2573 - sequential_loss: -183.0581\n",
      "Epoch 142/150\n",
      "500/500 [==============================] - 1s 1ms/sample - loss: -4892.3468 - attack_critic_model_loss: -4709.2891 - sequential_loss: -183.0581\n",
      "Epoch 143/150\n",
      "500/500 [==============================] - 1s 1ms/sample - loss: -4892.3827 - attack_critic_model_loss: -4709.3257 - sequential_loss: -183.0581\n",
      "Epoch 144/150\n",
      "500/500 [==============================] - 1s 1ms/sample - loss: -4892.4136 - attack_critic_model_loss: -4709.3550 - sequential_loss: -183.0581\n",
      "Epoch 145/150\n",
      "500/500 [==============================] - 1s 1ms/sample - loss: -4892.4256 - attack_critic_model_loss: -4709.3677 - sequential_loss: -183.0581\n",
      "Epoch 146/150\n",
      "500/500 [==============================] - 1s 1ms/sample - loss: -4892.4410 - attack_critic_model_loss: -4709.3838 - sequential_loss: -183.0581\n",
      "Epoch 147/150\n",
      "500/500 [==============================] - 1s 1ms/sample - loss: -4892.4733 - attack_critic_model_loss: -4709.4150 - sequential_loss: -183.0581\n",
      "Epoch 148/150\n",
      "500/500 [==============================] - 1s 1ms/sample - loss: -4892.4915 - attack_critic_model_loss: -4709.4341 - sequential_loss: -183.0581\n",
      "Epoch 149/150\n",
      "500/500 [==============================] - 1s 1ms/sample - loss: -4892.5068 - attack_critic_model_loss: -4709.4492 - sequential_loss: -183.0581\n",
      "Epoch 150/150\n",
      "500/500 [==============================] - 1s 1ms/sample - loss: -4892.5356 - attack_critic_model_loss: -4709.4780 - sequential_loss: -183.0581\n",
      "credibility : [[-2496.9077]]\n",
      "classification : [[0.79421985 0.00115392 0.04141544 0.02948719 0.13372354]]\n",
      "\n",
      " \n",
      "\n"
     ]
    }
   ],
   "source": [
    "loss = loss_optim_fn(target_probs, lambda_)\n",
    "optimizer = optimizers.SGD(lr=0.01, decay=1e-6, momentum=0.9, nesterov=True) # adam à tester\n",
    "batch_size = 32\n",
    "\n",
    "latent_reconstructed_list = []\n",
    "loss_list = []\n",
    "loss_1_list = []\n",
    "loss_2_list = []\n",
    "    \n",
    "# for i in range(5) :\n",
    "optim_model, gen_latent_values = create_new_model_optim()\n",
    "optim_model = freeze_not_optim_layers(model)\n",
    "optim_model.compile(optimizer=optimizer,loss=loss)\n",
    "optim_model.fit(x, y, epochs=n_epochs, batch_size = batch_size)\n",
    "\n",
    "latent_reconstructed = gen_latent_values.predict(np.full((1, 1), 1))\n",
    "image_reconstructed = attack_gan_model_2.predict(latent_reconstructed)\n",
    "credibility = attack_critic_model.predict(image_reconstructed)\n",
    "gen_probs = target_model.predict(image_reconstructed)\n",
    "\n",
    "\n",
    "latent_reconstructed_list.append(latent_reconstructed)\n",
    "\n",
    "y_pred = optim_model.predict(x)\n",
    "loss_result_1 = np.mean(y_pred[1], axis=0) - target_probs\n",
    "loss_result_1 = np.abs(loss_result_1)\n",
    "loss_result_1 = np.mean(loss_result_1)/2\n",
    "loss_result_1 = lambda_*loss_result_1\n",
    "loss_1_list.append(loss_result_1)\n",
    "\n",
    "loss_result_2 = np.mean(y_pred[0], axis=0)\n",
    "loss_2_list.append(loss_result_2)\n",
    "\n",
    "loss_result = loss_result_1 + loss_result_2\n",
    "loss_list.append(loss_result)\n",
    "\n",
    "print(\"credibility : {}\".format(credibility))\n",
    "print(\"classification : {}\".format(gen_probs))\n",
    "print(\"\\n \\n\")"
   ]
  },
  {
   "cell_type": "code",
   "execution_count": 23,
   "metadata": {},
   "outputs": [
    {
     "data": {
      "text/plain": [
       "(500, 1)"
      ]
     },
     "execution_count": 23,
     "metadata": {},
     "output_type": "execute_result"
    }
   ],
   "source": [
    "y_pred[0].shape"
   ]
  },
  {
   "cell_type": "code",
   "execution_count": 21,
   "metadata": {},
   "outputs": [
    {
     "data": {
      "text/plain": [
       "(500, 5)"
      ]
     },
     "execution_count": 21,
     "metadata": {},
     "output_type": "execute_result"
    }
   ],
   "source": [
    "y_pred[1].shape"
   ]
  },
  {
   "cell_type": "code",
   "execution_count": 14,
   "metadata": {},
   "outputs": [
    {
     "data": {
      "text/plain": [
       "array([[-0.5180685 ,  1.2450972 ,  1.0867869 ,  1.8320887 ,  0.43084836,\n",
       "         0.32128102, -0.09177265, -0.06413436, -0.29362363, -0.10217059,\n",
       "         0.7630002 ,  0.69438285,  0.5637195 , -1.7794447 , -0.8937026 ,\n",
       "        -1.0699247 , -0.21886955,  0.43364078,  1.6941183 ,  1.6351371 ,\n",
       "        -0.09885251,  0.21657217, -0.50902194, -1.8786974 , -0.8786869 ,\n",
       "        -1.110442  ,  0.62529135, -0.43939352,  1.3448558 , -0.96616405,\n",
       "        -0.4239976 , -1.4055173 , -0.517407  , -0.15063538, -0.8318425 ,\n",
       "         0.48744097, -0.4431982 , -1.0564091 ,  0.08171992, -1.2753817 ,\n",
       "         0.03256752,  1.1668969 ,  0.6350757 , -0.66358364, -0.85985774,\n",
       "         0.7011507 ,  0.15999384, -0.39931622,  1.8776681 ,  0.04447875]],\n",
       "      dtype=float32)"
      ]
     },
     "execution_count": 14,
     "metadata": {},
     "output_type": "execute_result"
    }
   ],
   "source": [
    "latent_reconstructed"
   ]
  },
  {
   "cell_type": "markdown",
   "metadata": {},
   "source": [
    "Choose the best one and save the experience"
   ]
  },
  {
   "cell_type": "code",
   "execution_count": 15,
   "metadata": {},
   "outputs": [],
   "source": [
    "image_reconstructed = attack_gan_model_2.predict(latent_reconstructed)"
   ]
  },
  {
   "cell_type": "code",
   "execution_count": 16,
   "metadata": {},
   "outputs": [
    {
     "data": {
      "text/plain": [
       "<matplotlib.image.AxesImage at 0x7f96fc0e8090>"
      ]
     },
     "execution_count": 16,
     "metadata": {},
     "output_type": "execute_result"
    },
    {
     "data": {
      "image/png": "[encoded data removed]",
      "text/plain": [
       "<Figure size 432x288 with 1 Axes>"
      ]
     },
     "metadata": {
      "needs_background": "light"
     },
     "output_type": "display_data"
    }
   ],
   "source": [
    "plt.imshow(image_reconstructed[0,:,:,0])"
   ]
  },
  {
   "cell_type": "markdown",
   "metadata": {},
   "source": [
    "# 5 Save the results"
   ]
  },
  {
   "cell_type": "code",
   "execution_count": null,
   "metadata": {},
   "outputs": [],
   "source": [
    "if not \"results\" in os.listdir(\"./\"):\n",
    "    os.mkdir(\"results\")\n",
    "file_name = \"result_\" + str(len(os.listdir(\"./results\")))\n",
    "dir_name = \"./results\"\n",
    "file_path = os.path.join(dir_name, file_name)\n",
    "np.save(file_path, results)"
   ]
  }
 ],
 "metadata": {
  "kernelspec": {
   "display_name": "Python 3",
   "language": "python",
   "name": "python3"
  },
  "language_info": {
   "codemirror_mode": {
    "name": "ipython",
    "version": 3
   },
   "file_extension": ".py",
   "mimetype": "text/x-python",
   "name": "python",
   "nbconvert_exporter": "python",
   "pygments_lexer": "ipython3",
   "version": "3.7.6"
  }
 },
 "nbformat": 4,
 "nbformat_minor": 4
}
