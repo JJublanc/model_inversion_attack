{
 "cells": [
  {
   "cell_type": "code",
   "execution_count": null,
   "metadata": {},
   "outputs": [],
   "source": [
    "import numpy as np\n",
    "import tensorflow as tf\n",
    "from tensorflow.keras.initializers import RandomNormal\n",
    "from tensorflow.keras.layers import Conv2D, Conv2DTranspose, Dense, Flatten, BatchNormalization, LeakyReLU, ReLU, Reshape, Dropout\n",
    "from tensorflow.keras.optimizers import RMSprop\n",
    "from tensorflow.keras import backend\n",
    "from tensorflow.keras.constraints import Constraint\n",
    "from tensorflow.keras.utils import to_categorical\n",
    "import matplotlib.pyplot as plt\n",
    "import os"
   ]
  },
  {
   "cell_type": "code",
   "execution_count": null,
   "metadata": {},
   "outputs": [],
   "source": [
    "tf.enable_eager_execution()\n",
    "tf.executing_eagerly()"
   ]
  },
  {
   "cell_type": "code",
   "execution_count": null,
   "metadata": {},
   "outputs": [],
   "source": [
    "import tensorflow as tf\n",
    "gpus = tf.config.experimental.list_physical_devices('GPU')\n",
    "if gpus:\n",
    "    try:\n",
    "        # Currently, memory growth needs to be the same across GPUs\n",
    "        for gpu in gpus:\n",
    "            tf.config.experimental.set_memory_growth(gpu, True)\n",
    "        logical_gpus = tf.config.experimental.list_logical_devices('GPU')\n",
    "        print(len(gpus), \"Physical GPUs,\", len(logical_gpus), \"Logical GPUs\")\n",
    "    except RuntimeError as e:\n",
    "        # Memory growth must be set before GPUs have been initialized\n",
    "        print(e)"
   ]
  },
  {
   "cell_type": "code",
   "execution_count": null,
   "metadata": {},
   "outputs": [],
   "source": [
    "saved_model = tf.keras.models.load_model(\"gan_evaluation/gan_evaluation_model.h5\")"
   ]
  },
  {
   "cell_type": "code",
   "execution_count": null,
   "metadata": {},
   "outputs": [],
   "source": [
    "latent_shape = 50\n",
    "batch_size = 32\n",
    "n_epochs=50"
   ]
  },
  {
   "cell_type": "code",
   "execution_count": null,
   "metadata": {},
   "outputs": [],
   "source": [
    "(x_train_full, y_train_full), (x_test_full, y_test_full) = tf.keras.datasets.mnist.load_data()\n",
    "\n",
    "# Find indices of labels 5 to 9\n",
    "train_index = np.squeeze(np.argwhere(y_train_full>=5))\n",
    "\n",
    "(x_train, y_train) = (x_train_full[train_index], y_train_full[train_index])\n",
    "\n",
    "x_train_n = np.expand_dims(x_train/255, axis=-1).astype('float32')\n",
    "\n",
    "num_classes = 5\n",
    "\n",
    "# convert class vectors to binary class matrices\n",
    "y_train_b = to_categorical(y_train-5, num_classes)\n",
    "\n",
    "dataset = tf.data.Dataset.from_tensor_slices(x_train_n)\n",
    "dataset = dataset.shuffle(buffer_size=100).batch(batch_size, drop_remainder=True).prefetch(1)"
   ]
  },
  {
   "cell_type": "code",
   "execution_count": null,
   "metadata": {},
   "outputs": [],
   "source": [
    "init = RandomNormal(stddev=0.02)\n",
    "clip_value = 0.01\n",
    "\n",
    "class ClipConstraint(Constraint):\n",
    "    \"\"\"Constrains the weights to vary between + - clip_value.\n",
    "    \"\"\"\n",
    "    \n",
    "    def __init__(self, clip_value):\n",
    "        self.clip_value = clip_value\n",
    "        \n",
    "    def __call__(self, w):\n",
    "        return backend.clip(w, -self.clip_value, self.clip_value)"
   ]
  },
  {
   "cell_type": "code",
   "execution_count": null,
   "metadata": {},
   "outputs": [],
   "source": [
    "clip = ClipConstraint(0.01)"
   ]
  },
  {
   "cell_type": "code",
   "execution_count": null,
   "metadata": {},
   "outputs": [],
   "source": [
    "critic = tf.keras.Sequential(name=\"critic\")\n",
    "\n",
    "critic.add(Conv2D(64, (4, 4), strides=(2, 2), padding=\"same\", kernel_initializer=init, kernel_constraint=clip, input_shape=(28, 28, 1)))\n",
    "critic.add(BatchNormalization())\n",
    "critic.add(LeakyReLU(alpha=0.2))\n",
    "\n",
    "critic.add(Conv2D(64, (4, 4), strides=(2, 2), padding=\"same\", kernel_initializer=init, kernel_constraint=clip))\n",
    "critic.add(BatchNormalization())\n",
    "critic.add(LeakyReLU(alpha=0.2))\n",
    "\n",
    "critic.add(Flatten())\n",
    "critic.add(Dense(1))#, activation=\"sigmoid\"))"
   ]
  },
  {
   "cell_type": "code",
   "execution_count": null,
   "metadata": {},
   "outputs": [],
   "source": [
    "critic.summary()"
   ]
  },
  {
   "cell_type": "code",
   "execution_count": null,
   "metadata": {},
   "outputs": [],
   "source": [
    "generator = tf.keras.Sequential(name=\"generator\")\n",
    "\n",
    "generator.add(Dense(128*7*7, input_shape=[latent_shape]))\n",
    "generator.add(LeakyReLU(alpha=0.2))\n",
    "generator.add(Reshape((7, 7, 128)))\n",
    "\n",
    "generator.add(Conv2DTranspose(128, (4, 4),strides=(2, 2), padding=\"same\", kernel_initializer=init))\n",
    "generator.add(BatchNormalization())\n",
    "generator.add(LeakyReLU(alpha=0.2))\n",
    "\n",
    "generator.add(Conv2DTranspose(128, (4, 4),strides=(2, 2), padding=\"same\", kernel_initializer=init))\n",
    "generator.add(BatchNormalization())\n",
    "generator.add(LeakyReLU(alpha=0.2))\n",
    "\n",
    "generator.add(Conv2DTranspose(1, (7, 7), padding=\"same\", kernel_initializer=init, activation=\"tanh\"))\n"
   ]
  },
  {
   "cell_type": "code",
   "execution_count": null,
   "metadata": {},
   "outputs": [],
   "source": [
    "generator.summary()"
   ]
  },
  {
   "cell_type": "code",
   "execution_count": null,
   "metadata": {},
   "outputs": [],
   "source": [
    "gan = tf.keras.Sequential([generator, critic], name=\"gan\")\n",
    "gan.summary()"
   ]
  },
  {
   "cell_type": "code",
   "execution_count": null,
   "metadata": {},
   "outputs": [],
   "source": [
    "def wasserstein_loss(y_true, y_pred):\n",
    "    return backend.mean(y_true * y_pred)"
   ]
  },
  {
   "cell_type": "code",
   "execution_count": null,
   "metadata": {},
   "outputs": [],
   "source": [
    "critic.compile(loss=wasserstein_loss, optimizer=RMSprop(lr=0.0005, momentum=0.9))\n",
    "critic.trainable = False\n",
    "gan.compile(loss=wasserstein_loss, optimizer=RMSprop(lr=0.0005, momentum=0.9))"
   ]
  },
  {
   "cell_type": "code",
   "execution_count": null,
   "metadata": {},
   "outputs": [],
   "source": [
    "def train_gan(gan, dataset, batch_size, latent_shape, n_epochs=n_epochs, n_critic=5):\n",
    "    c_hist, g_hist = list(), list()\n",
    "    generator, critic = gan.layers\n",
    "    for epoch in range(n_epochs):\n",
    "        for X_batch in dataset:\n",
    "            \n",
    "            # phase 1 - training the critic\n",
    "            c_tmp = list()\n",
    "            for _ in range(n_critic):\n",
    "                noise = tf.random.normal(shape=[batch_size, latent_shape])\n",
    "                generated_images = generator(noise)\n",
    "                \n",
    "                X_fake_and_real = tf.concat([generated_images, X_batch], axis=0)\n",
    "                y1 = tf.constant([[1.]] * batch_size + [[-1.]] * batch_size)\n",
    "                \n",
    "                critic.trainable = True\n",
    "                c_loss = critic.train_on_batch(X_fake_and_real, y1)\n",
    "                c_tmp.append(c_loss)\n",
    "                                    \n",
    "            c_hist.append(np.mean(c_tmp))\n",
    "            \n",
    "            # phase 2 - training the generator\n",
    "            noise = tf.random.normal(shape=[batch_size, latent_shape])\n",
    "            y2 = tf.constant([[-1.]] * batch_size)\n",
    "            critic.trainable = False\n",
    "            g_loss = gan.train_on_batch(noise, y2)\n",
    "            g_hist.append(g_loss)\n",
    "        \n",
    "        print('>%d, c=%.3f, g=%.3f' % (epoch, c_hist[-1], g_loss))\n",
    "        \n",
    "        # predictions\n",
    "        # scale from [-1,1] to [0,1]\n",
    "        generated_images = (generated_images + 1) / 2.0\n",
    "        y_prob = saved_model.predict(generated_images)\n",
    "        for i in range(batch_size):\n",
    "            label = np.argmax(y_prob[i,:])+5\n",
    "            prob = np.max(y_prob[i,:])\n",
    "            # PLOT\n",
    "            plt.subplot(4, 8, 1 + i)\n",
    "            plt.axis('off')\n",
    "            plt.imshow(generated_images[i, :, :, 0], cmap='gray_r', shape=(500, 500))\n",
    "            plt.title(\"{}-{:.2f}\".format(label, prob), size=5, pad=1)\n",
    "            # save plot to file\n",
    "        filename1 = 'eval_gan_plot_%04d.png' % (epoch+1)\n",
    "        plt.savefig(os.path.join(\"gan_evaluation\", filename1), dpi=200)\n",
    "        plt.close()\n",
    "        # save the generator model\n",
    "        filename2 = os.path.join(\"gan_evaluation\",'attack_gan_model_%04d.h5' % (epoch+1))\n",
    "        gan.save(filename2)\n",
    "        # save the critic model\n",
    "        filename3 = os.path.join(\"gan_evaluation\",'attack_critic_model_weights_%04d.h5' % (epoch+1))\n",
    "        critic.save_weights(filename3)\n",
    "        "
   ]
  },
  {
   "cell_type": "code",
   "execution_count": null,
   "metadata": {},
   "outputs": [],
   "source": [
    "train_gan(gan, dataset, batch_size, latent_shape)"
   ]
  },
  {
   "cell_type": "code",
   "execution_count": null,
   "metadata": {},
   "outputs": [],
   "source": []
  },
  {
   "cell_type": "code",
   "execution_count": null,
   "metadata": {},
   "outputs": [],
   "source": []
  },
  {
   "cell_type": "code",
   "execution_count": null,
   "metadata": {},
   "outputs": [],
   "source": []
  }
 ],
 "metadata": {
  "kernelspec": {
   "display_name": "Python 3",
   "language": "python",
   "name": "python3"
  },
  "language_info": {
   "codemirror_mode": {
    "name": "ipython",
    "version": 3
   },
   "file_extension": ".py",
   "mimetype": "text/x-python",
   "name": "python",
   "nbconvert_exporter": "python",
   "pygments_lexer": "ipython3",
   "version": "3.7.6"
  }
 },
 "nbformat": 4,
 "nbformat_minor": 4
}
