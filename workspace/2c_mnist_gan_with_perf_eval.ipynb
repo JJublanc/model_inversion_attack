{
 "cells": [
  {
   "cell_type": "code",
   "execution_count": null,
   "metadata": {},
   "outputs": [],
   "source": [
    "import numpy as np\n",
    "import tensorflow as tf\n",
    "from tensorflow.keras.layers import Conv2D, Conv2DTranspose, Dense, Flatten, BatchNormalization, LeakyReLU, ReLU, Reshape\n",
    "from tensorflow.keras.optimizers import RMSprop\n",
    "from tensorflow.keras import backend\n",
    "# from tensorflow.keras.optimizers import SGD\n",
    "# from tensorflow.keras.utils import to_categorical"
   ]
  },
  {
   "cell_type": "code",
   "execution_count": null,
   "metadata": {},
   "outputs": [],
   "source": [
    "tf.enable_eager_execution()\n",
    "tf.executing_eagerly()"
   ]
  },
  {
   "cell_type": "code",
   "execution_count": null,
   "metadata": {},
   "outputs": [],
   "source": [
    "import tensorflow as tf\n",
    "gpus = tf.config.experimental.list_physical_devices('GPU')\n",
    "if gpus:\n",
    "    try:\n",
    "        # Currently, memory growth needs to be the same across GPUs\n",
    "        for gpu in gpus:\n",
    "          tf.config.experimental.set_memory_growth(gpu, True)\n",
    "        logical_gpus = tf.config.experimental.list_logical_devices('GPU')\n",
    "        print(len(gpus), \"Physical GPUs,\", len(logical_gpus), \"Logical GPUs\")\n",
    "    except RuntimeError as e:\n",
    "        # Memory growth must be set before GPUs have been initialized\n",
    "        print(e)"
   ]
  },
  {
   "cell_type": "code",
   "execution_count": null,
   "metadata": {},
   "outputs": [],
   "source": [
    "saved_model = tf.keras.models.load_model(\"gan_evaluation/gan_evaluation_model.h5\")"
   ]
  },
  {
   "cell_type": "code",
   "execution_count": null,
   "metadata": {},
   "outputs": [],
   "source": [
    "latent_shape = 100\n",
    "batch_size = 32"
   ]
  },
  {
   "cell_type": "code",
   "execution_count": null,
   "metadata": {},
   "outputs": [],
   "source": [
    "(x_train_full, y_train_full), (x_test_full, y_test_full) = tf.keras.datasets.mnist.load_data()\n",
    "\n",
    "# Find indices of labels 5 to 9\n",
    "train_index = np.squeeze(np.argwhere(y_train_full>=5))\n",
    "# test_index = np.squeeze(np.argwhere(y_test_full>=5))\n",
    "\n",
    "(x_train, y_train) = (x_train_full[train_index], y_train_full[train_index])\n",
    "# (x_test, y_test) = (x_test_full[test_index], y_test_full[test_index])\n",
    "\n",
    "x_train_n = np.expand_dims(x_train/255, axis=-1).astype('float32')\n",
    "# x_test_n = np.expand_dims(x_test/255, axis=-1).astype('float32')\n",
    "\n",
    "num_classes = 5\n",
    "\n",
    "# convert class vectors to binary class matrices\n",
    "# y_train_b = to_categorical(y_train-5, num_classes)\n",
    "# y_test_b = to_categorical(y_test-5, num_classes)\n",
    "\n",
    "dataset = tf.data.Dataset.from_tensor_slices(x_train_n)\n",
    "dataset = dataset.batch(batch_size, drop_remainder=True).prefetch(1)"
   ]
  },
  {
   "cell_type": "code",
   "execution_count": null,
   "metadata": {},
   "outputs": [],
   "source": [
    "critic = tf.keras.Sequential(name=\"critic\")\n",
    "critic.add(Conv2D(64, (4, 4), strides=(2, 2), padding=\"same\", input_shape=(28, 28, 1), name=\"c_conv_1\"))\n",
    "# critic.add(BatchNormalization(name=\"c_batch_norm_1\"))\n",
    "critic.add(LeakyReLU(alpha=0.2, name=\"c_leaky_1\"))\n",
    "critic.add(Conv2D(32, (4, 4), strides=(2, 2), padding=\"same\", name=\"c_conv_2\"))\n",
    "critic.add(BatchNormalization(name=\"c_batch_norm_2\"))\n",
    "critic.add(LeakyReLU(alpha=0.2, name=\"c_leaky_2\"))\n",
    "critic.add(Conv2D(16, (4, 4), strides=(2, 2), padding=\"same\", name=\"c_conv_3\"))\n",
    "critic.add(BatchNormalization(name=\"c_batch_norm_3\"))\n",
    "critic.add(LeakyReLU(alpha=0.2, name=\"c_leaky_3\"))\n",
    "critic.add(Flatten(name=\"c_flatten\"))\n",
    "critic.add(Dense(128, name=\"c_dense_1\"))\n",
    "critic.add(Dense(1, name=\"c_dense_out\"))\n",
    "critic.add(LeakyReLU(alpha=0.2, name=\"c_leaky_out\"))"
   ]
  },
  {
   "cell_type": "code",
   "execution_count": null,
   "metadata": {},
   "outputs": [],
   "source": [
    "critic.summary()"
   ]
  },
  {
   "cell_type": "code",
   "execution_count": null,
   "metadata": {},
   "outputs": [],
   "source": [
    "generator = tf.keras.Sequential(name=\"generator\")\n",
    "generator.add(Dense(100, input_shape=[latent_shape], name=\"g_dense_in\"))\n",
    "generator.add(ReLU(name=\"g_relu_1\"))\n",
    "generator.add(Dense(128*7*7, input_shape=[latent_shape], name=\"g_dense_2\"))\n",
    "generator.add(ReLU(name=\"g_relu_2\"))\n",
    "generator.add(Reshape((7, 7, 128)))\n",
    "generator.add(Conv2DTranspose(64, (4, 4),strides=(2, 2), padding=\"same\", name=\"g_convT_1\"))\n",
    "generator.add(BatchNormalization(name=\"g_batch_norm_1\"))\n",
    "generator.add(ReLU(name=\"g_relu_3\"))\n",
    "generator.add(Conv2DTranspose(1, (4, 4), strides=(2, 2), padding=\"same\", activation=\"tanh\", name=\"g_convT_2\"))\n",
    "generator.add(BatchNormalization(name=\"g_batch_norm_2\"))\n",
    "# generator.add(ReLU(name=\"g_relu_4\"))\n",
    "# generator.add(Conv2D(1, (7,7), activation=\"tanh\", padding='same', name=\"g_conv_out\"))"
   ]
  },
  {
   "cell_type": "code",
   "execution_count": null,
   "metadata": {},
   "outputs": [],
   "source": [
    "generator.summary()"
   ]
  },
  {
   "cell_type": "code",
   "execution_count": null,
   "metadata": {},
   "outputs": [],
   "source": [
    "gan = tf.keras.Sequential([generator, critic], name=\"gan\")\n",
    "gan.summary()"
   ]
  },
  {
   "cell_type": "code",
   "execution_count": null,
   "metadata": {},
   "outputs": [],
   "source": [
    "def wasserstein_loss(y_true, y_pred):\n",
    "    return backend.mean(y_true * y_pred)"
   ]
  },
  {
   "cell_type": "code",
   "execution_count": null,
   "metadata": {},
   "outputs": [],
   "source": [
    "critic.compile(loss=wasserstein_loss, optimizer=RMSprop(lr=0.00005))\n",
    "# critic.trainable = False\n",
    "gan.compile(loss=wasserstein_loss, optimizer=RMSprop(lr=0.00005))"
   ]
  },
  {
   "cell_type": "code",
   "execution_count": null,
   "metadata": {},
   "outputs": [],
   "source": [
    "def train_gan(gan, dataset, batch_size, latent_shape, n_epochs=50, n_critic=5):\n",
    "    c_hist, g_hist = list(), list()\n",
    "    generator, critic = gan.layers\n",
    "    for epoch in range(n_epochs):\n",
    "        for X_batch in dataset:\n",
    "            # phase 1 - training the critic\n",
    "            c_tmp = list()\n",
    "            for _ in range(n_critic):\n",
    "                noise = tf.random.normal(shape=[batch_size, latent_shape])\n",
    "                generated_images = generator(noise)\n",
    "                X_fake_and_real = tf.concat([generated_images, X_batch], axis=0)\n",
    "                y1 = tf.constant([[1.]] * batch_size + [[-1.]] * batch_size)\n",
    "                critic.trainable = True\n",
    "                c_loss = critic.train_on_batch(X_fake_and_real, y1)\n",
    "                c_tmp.append(c_loss)\n",
    "                \n",
    "                # Clip critic weights\n",
    "                clip_value = 0.01\n",
    "                for l in critic.layers:\n",
    "                    weights = l.get_weights()\n",
    "                    weights = [np.clip(w, -clip_value, clip_value) for w in weights]\n",
    "                    l.set_weights(weights)\n",
    "                    \n",
    "            c_hist.append(np.mean(c_tmp))\n",
    "            # phase 2 - training the generator\n",
    "            noise = tf.random.normal(shape=[batch_size, latent_shape])\n",
    "            y2 = tf.constant([[1.]] * batch_size)\n",
    "            critic.trainable = False\n",
    "            g_loss = gan.train_on_batch(noise, y2)\n",
    "            g_hist.append(g_loss)\n",
    "        print('>%d, c=%.3f, g=%.3f' % (n_epochs, c_hist[-1], g_loss))"
   ]
  },
  {
   "cell_type": "code",
   "execution_count": null,
   "metadata": {},
   "outputs": [],
   "source": [
    "train_gan(gan, dataset, batch_size, latent_shape)"
   ]
  },
  {
   "cell_type": "code",
   "execution_count": null,
   "metadata": {},
   "outputs": [],
   "source": []
  },
  {
   "cell_type": "code",
   "execution_count": null,
   "metadata": {},
   "outputs": [],
   "source": []
  },
  {
   "cell_type": "code",
   "execution_count": null,
   "metadata": {},
   "outputs": [],
   "source": []
  }
 ],
 "metadata": {
  "kernelspec": {
   "display_name": "Python 3",
   "language": "python",
   "name": "python3"
  },
  "language_info": {
   "codemirror_mode": {
    "name": "ipython",
    "version": 3
   },
   "file_extension": ".py",
   "mimetype": "text/x-python",
   "name": "python",
   "nbconvert_exporter": "python",
   "pygments_lexer": "ipython3",
   "version": "3.7.6"
  }
 },
 "nbformat": 4,
 "nbformat_minor": 4
}
