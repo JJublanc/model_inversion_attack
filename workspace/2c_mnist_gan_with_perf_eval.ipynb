{
 "cells": [
  {
   "cell_type": "code",
   "execution_count": 1,
   "metadata": {},
   "outputs": [],
   "source": [
    "import numpy as np\n",
    "import tensorflow as tf\n",
    "from tensorflow.keras.initializers import RandomNormal\n",
    "from tensorflow.keras.layers import Conv2D, Conv2DTranspose, Dense, Flatten, BatchNormalization, LeakyReLU, ReLU, Reshape, Dropout\n",
    "from tensorflow.keras.optimizers import RMSprop\n",
    "from tensorflow.keras import backend\n",
    "# from tensorflow.keras.optimizers import SGD\n",
    "from tensorflow.keras.utils import to_categorical\n",
    "import matplotlib.pyplot as plt\n",
    "import os"
   ]
  },
  {
   "cell_type": "code",
   "execution_count": 2,
   "metadata": {},
   "outputs": [
    {
     "data": {
      "text/plain": [
       "True"
      ]
     },
     "execution_count": 2,
     "metadata": {},
     "output_type": "execute_result"
    }
   ],
   "source": [
    "tf.enable_eager_execution()\n",
    "tf.executing_eagerly()"
   ]
  },
  {
   "cell_type": "code",
   "execution_count": 3,
   "metadata": {},
   "outputs": [
    {
     "name": "stdout",
     "output_type": "stream",
     "text": [
      "1 Physical GPUs, 1 Logical GPUs\n"
     ]
    }
   ],
   "source": [
    "import tensorflow as tf\n",
    "gpus = tf.config.experimental.list_physical_devices('GPU')\n",
    "if gpus:\n",
    "    try:\n",
    "        # Currently, memory growth needs to be the same across GPUs\n",
    "        for gpu in gpus:\n",
    "          tf.config.experimental.set_memory_growth(gpu, True)\n",
    "        logical_gpus = tf.config.experimental.list_logical_devices('GPU')\n",
    "        print(len(gpus), \"Physical GPUs,\", len(logical_gpus), \"Logical GPUs\")\n",
    "    except RuntimeError as e:\n",
    "        # Memory growth must be set before GPUs have been initialized\n",
    "        print(e)"
   ]
  },
  {
   "cell_type": "code",
   "execution_count": 4,
   "metadata": {},
   "outputs": [
    {
     "name": "stdout",
     "output_type": "stream",
     "text": [
      "WARNING:tensorflow:From /opt/conda/lib/python3.7/site-packages/tensorflow_core/python/ops/math_grad.py:1424: where (from tensorflow.python.ops.array_ops) is deprecated and will be removed in a future version.\n",
      "Instructions for updating:\n",
      "Use tf.where in 2.0, which has the same broadcast rule as np.where\n"
     ]
    }
   ],
   "source": [
    "saved_model = tf.keras.models.load_model(\"gan_evaluation/gan_evaluation_model.h5\")"
   ]
  },
  {
   "cell_type": "code",
   "execution_count": 5,
   "metadata": {},
   "outputs": [],
   "source": [
    "latent_shape = 100\n",
    "batch_size = 32\n",
    "n_epochs=50"
   ]
  },
  {
   "cell_type": "code",
   "execution_count": 6,
   "metadata": {},
   "outputs": [],
   "source": [
    "(x_train_full, y_train_full), (x_test_full, y_test_full) = tf.keras.datasets.mnist.load_data()\n",
    "\n",
    "# Find indices of labels 5 to 9\n",
    "train_index = np.squeeze(np.argwhere(y_train_full>=5))\n",
    "\n",
    "(x_train, y_train) = (x_train_full[train_index], y_train_full[train_index])\n",
    "\n",
    "x_train_n = np.expand_dims(x_train/255, axis=-1).astype('float32')\n",
    "\n",
    "num_classes = 5\n",
    "\n",
    "# convert class vectors to binary class matrices\n",
    "y_train_b = to_categorical(y_train-5, num_classes)\n",
    "\n",
    "dataset = tf.data.Dataset.from_tensor_slices(x_train_n)\n",
    "dataset = dataset.shuffle(buffer_size=100).batch(batch_size, drop_remainder=True).prefetch(1)"
   ]
  },
  {
   "cell_type": "code",
   "execution_count": 7,
   "metadata": {},
   "outputs": [
    {
     "data": {
      "text/plain": [
       "45943.75"
      ]
     },
     "execution_count": 7,
     "metadata": {},
     "output_type": "execute_result"
    }
   ],
   "source": [
    "# nb of steps\n",
    "x_train_n.shape[0]/batch_size*n_epochs"
   ]
  },
  {
   "cell_type": "code",
   "execution_count": 8,
   "metadata": {},
   "outputs": [],
   "source": [
    "init = RandomNormal(stddev=0.02)\n",
    "clip_value = 0.01"
   ]
  },
  {
   "cell_type": "code",
   "execution_count": 9,
   "metadata": {},
   "outputs": [],
   "source": [
    "critic = tf.keras.Sequential(name=\"critic\")\n",
    "\n",
    "critic.add(Conv2D(64, (4, 4), strides=(2, 2), padding=\"same\", kernel_initializer=init, input_shape=(28, 28, 1)))\n",
    "critic.add(BatchNormalization())\n",
    "critic.add(Dropout(0.4))\n",
    "critic.add(LeakyReLU(alpha=0.2))\n",
    "\n",
    "critic.add(Conv2D(64, (4, 4), strides=(2, 2), padding=\"same\", kernel_initializer=init))\n",
    "critic.add(BatchNormalization())\n",
    "critic.add(Dropout(0.4))\n",
    "critic.add(LeakyReLU(alpha=0.2))\n",
    "\n",
    "critic.add(Flatten())\n",
    "critic.add(Dense(1, activation=\"sigmoid\"))"
   ]
  },
  {
   "cell_type": "code",
   "execution_count": 10,
   "metadata": {},
   "outputs": [
    {
     "name": "stdout",
     "output_type": "stream",
     "text": [
      "Model: \"critic\"\n",
      "_________________________________________________________________\n",
      "Layer (type)                 Output Shape              Param #   \n",
      "=================================================================\n",
      "conv2d (Conv2D)              (None, 14, 14, 64)        1088      \n",
      "_________________________________________________________________\n",
      "batch_normalization (BatchNo (None, 14, 14, 64)        256       \n",
      "_________________________________________________________________\n",
      "dropout (Dropout)            (None, 14, 14, 64)        0         \n",
      "_________________________________________________________________\n",
      "leaky_re_lu (LeakyReLU)      (None, 14, 14, 64)        0         \n",
      "_________________________________________________________________\n",
      "conv2d_1 (Conv2D)            (None, 7, 7, 64)          65600     \n",
      "_________________________________________________________________\n",
      "batch_normalization_1 (Batch (None, 7, 7, 64)          256       \n",
      "_________________________________________________________________\n",
      "dropout_1 (Dropout)          (None, 7, 7, 64)          0         \n",
      "_________________________________________________________________\n",
      "leaky_re_lu_1 (LeakyReLU)    (None, 7, 7, 64)          0         \n",
      "_________________________________________________________________\n",
      "flatten (Flatten)            (None, 3136)              0         \n",
      "_________________________________________________________________\n",
      "dense (Dense)                (None, 1)                 3137      \n",
      "=================================================================\n",
      "Total params: 70,337\n",
      "Trainable params: 70,081\n",
      "Non-trainable params: 256\n",
      "_________________________________________________________________\n"
     ]
    }
   ],
   "source": [
    "critic.summary()"
   ]
  },
  {
   "cell_type": "code",
   "execution_count": 11,
   "metadata": {},
   "outputs": [],
   "source": [
    "generator = tf.keras.Sequential(name=\"generator\")\n",
    "\n",
    "generator.add(Dense(128*7*7, input_shape=[latent_shape]))\n",
    "generator.add(LeakyReLU(alpha=0.2))\n",
    "generator.add(Reshape((7, 7, 128)))\n",
    "\n",
    "generator.add(Conv2DTranspose(128, (4, 4),strides=(2, 2), padding=\"same\", kernel_initializer=init))\n",
    "generator.add(BatchNormalization())\n",
    "generator.add(LeakyReLU(alpha=0.2))\n",
    "\n",
    "generator.add(Conv2DTranspose(128, (4, 4),strides=(2, 2), padding=\"same\", kernel_initializer=init))\n",
    "generator.add(BatchNormalization())\n",
    "generator.add(LeakyReLU(alpha=0.2))\n",
    "\n",
    "generator.add(Conv2DTranspose(1, (7, 7), padding=\"same\", kernel_initializer=init, activation=\"tanh\"))\n"
   ]
  },
  {
   "cell_type": "code",
   "execution_count": 12,
   "metadata": {},
   "outputs": [
    {
     "name": "stdout",
     "output_type": "stream",
     "text": [
      "Model: \"generator\"\n",
      "_________________________________________________________________\n",
      "Layer (type)                 Output Shape              Param #   \n",
      "=================================================================\n",
      "dense_1 (Dense)              (None, 6272)              633472    \n",
      "_________________________________________________________________\n",
      "leaky_re_lu_2 (LeakyReLU)    (None, 6272)              0         \n",
      "_________________________________________________________________\n",
      "reshape (Reshape)            (None, 7, 7, 128)         0         \n",
      "_________________________________________________________________\n",
      "conv2d_transpose (Conv2DTran (None, 14, 14, 128)       262272    \n",
      "_________________________________________________________________\n",
      "batch_normalization_2 (Batch (None, 14, 14, 128)       512       \n",
      "_________________________________________________________________\n",
      "leaky_re_lu_3 (LeakyReLU)    (None, 14, 14, 128)       0         \n",
      "_________________________________________________________________\n",
      "conv2d_transpose_1 (Conv2DTr (None, 28, 28, 128)       262272    \n",
      "_________________________________________________________________\n",
      "batch_normalization_3 (Batch (None, 28, 28, 128)       512       \n",
      "_________________________________________________________________\n",
      "leaky_re_lu_4 (LeakyReLU)    (None, 28, 28, 128)       0         \n",
      "_________________________________________________________________\n",
      "conv2d_transpose_2 (Conv2DTr (None, 28, 28, 1)         6273      \n",
      "=================================================================\n",
      "Total params: 1,165,313\n",
      "Trainable params: 1,164,801\n",
      "Non-trainable params: 512\n",
      "_________________________________________________________________\n"
     ]
    }
   ],
   "source": [
    "generator.summary()"
   ]
  },
  {
   "cell_type": "code",
   "execution_count": 13,
   "metadata": {},
   "outputs": [
    {
     "name": "stdout",
     "output_type": "stream",
     "text": [
      "Model: \"gan\"\n",
      "_________________________________________________________________\n",
      "Layer (type)                 Output Shape              Param #   \n",
      "=================================================================\n",
      "generator (Sequential)       (None, 28, 28, 1)         1165313   \n",
      "_________________________________________________________________\n",
      "critic (Sequential)          (None, 1)                 70337     \n",
      "=================================================================\n",
      "Total params: 1,235,650\n",
      "Trainable params: 1,234,882\n",
      "Non-trainable params: 768\n",
      "_________________________________________________________________\n"
     ]
    }
   ],
   "source": [
    "gan = tf.keras.Sequential([generator, critic], name=\"gan\")\n",
    "gan.summary()"
   ]
  },
  {
   "cell_type": "code",
   "execution_count": 14,
   "metadata": {},
   "outputs": [],
   "source": [
    "def wasserstein_loss(y_true, y_pred):\n",
    "    return backend.mean(y_true * y_pred)"
   ]
  },
  {
   "cell_type": "code",
   "execution_count": 15,
   "metadata": {},
   "outputs": [],
   "source": [
    "critic.compile(loss=wasserstein_loss, optimizer=RMSprop(lr=0.0005, momentum=0.9, clipvalue=clip_value), metrics=['accuracy'])\n",
    "critic.trainable = False\n",
    "gan.compile(loss=wasserstein_loss, optimizer=RMSprop(lr=0.0005, momentum=0.9, clipvalue=clip_value), metrics=['accuracy'])"
   ]
  },
  {
   "cell_type": "code",
   "execution_count": 16,
   "metadata": {},
   "outputs": [],
   "source": [
    "def train_gan(gan, dataset, batch_size, latent_shape, n_epochs=n_epochs, n_critic=5):\n",
    "    c_hist, g_hist = list(), list()\n",
    "    generator, critic = gan.layers\n",
    "    for epoch in range(n_epochs):\n",
    "        for X_batch in dataset:\n",
    "            \n",
    "            # phase 1 - training the critic\n",
    "            c_tmp = list()\n",
    "            for _ in range(n_critic):\n",
    "                noise = tf.random.normal(shape=[batch_size, latent_shape])\n",
    "                generated_images = generator(noise)\n",
    "#                 print(\"Generated images shape for critic: {}\".format(generated_images.shape))\n",
    "                X_fake_and_real = tf.concat([generated_images, X_batch], axis=0)\n",
    "#                 print(\"Fake and Real images shape: {}\".format(X_fake_and_real.shape))\n",
    "                y1 = tf.constant([[1.]] * batch_size + [[-1.]] * batch_size)\n",
    "#                 print(\"Labels for critic shape: {}\".format(y1.shape))\n",
    "                critic.trainable = True\n",
    "                c_loss, _ = critic.train_on_batch(X_fake_and_real, y1)\n",
    "                c_tmp.append(c_loss)\n",
    "                                    \n",
    "            c_hist.append(np.mean(c_tmp))\n",
    "            \n",
    "            # phase 2 - training the generator\n",
    "            noise = tf.random.normal(shape=[batch_size, latent_shape])\n",
    "#             print(\"Generated images shape for generator: {}\".format(noise.shape))\n",
    "            y2 = tf.constant([[-1.]] * batch_size)\n",
    "#             print(\"Labels for generator shape: {}\".format(y2.shape))\n",
    "            critic.trainable = False\n",
    "            g_loss, _ = gan.train_on_batch(noise, y2)\n",
    "            g_hist.append(g_loss)\n",
    "        \n",
    "        print('>%d, c=%.3f, g=%.3f' % (epoch, c_hist[-1], g_loss))\n",
    "        \n",
    "        # predictions\n",
    "        y_prob = saved_model.predict(generated_images)\n",
    "        for i in range(batch_size):\n",
    "            label = np.argmax(y_prob[i,:])+5\n",
    "            prob = np.max(y_prob[i,:])\n",
    "            # PLOT\n",
    "            plt.subplot(4, 8, 1 + i)\n",
    "            plt.axis('off')\n",
    "            plt.imshow(generated_images[i, :, :, 0], cmap='gray_r')\n",
    "            plt.title(\"L={}\\nP={:.2f}\".format(label, prob), size=10)\n",
    "            # save plot to file\n",
    "        filename1 = 'eval_gan_plot_%04d.png' % (epoch+1)\n",
    "        plt.savefig(os.path.join(\"gan_evaluation\", filename1), dpi=200, size=(10, 10))\n",
    "        plt.close()\n",
    "        # save the generator model\n",
    "        filename2 = os.path.join(\"gan_evaluation\",'attack_gan_model_%04d.h5' % (epoch+1))\n",
    "        gan.save(filename2)\n",
    "        # save the critic model\n",
    "        filename3 = os.path.join(\"gan_evaluation\",'attack_critic_model_weights_%04d.h5' % (epoch+1))\n",
    "        critic.save_weights(filename3)\n",
    "        "
   ]
  },
  {
   "cell_type": "code",
   "execution_count": null,
   "metadata": {},
   "outputs": [
    {
     "name": "stdout",
     "output_type": "stream",
     "text": [
      ">0, c=-0.500, g=-0.947\n",
      ">1, c=-0.500, g=-0.982\n",
      ">2, c=-0.500, g=-0.998\n",
      ">3, c=-0.500, g=-1.000\n",
      ">4, c=-0.500, g=-0.994\n",
      ">5, c=-0.500, g=-0.999\n",
      ">6, c=-0.500, g=-1.000\n",
      ">7, c=-0.500, g=-0.998\n",
      ">8, c=-0.500, g=-0.999\n",
      ">9, c=-0.500, g=-0.978\n",
      ">10, c=-0.500, g=-0.984\n",
      ">11, c=-0.500, g=-0.979\n",
      ">12, c=-0.500, g=-0.986\n",
      ">13, c=-0.500, g=-0.995\n",
      ">14, c=-0.500, g=-0.992\n",
      ">15, c=-0.500, g=-0.990\n",
      ">16, c=-0.500, g=-0.994\n",
      ">17, c=-0.500, g=-0.983\n"
     ]
    }
   ],
   "source": [
    "train_gan(gan, dataset, batch_size, latent_shape)"
   ]
  },
  {
   "cell_type": "code",
   "execution_count": null,
   "metadata": {},
   "outputs": [],
   "source": []
  },
  {
   "cell_type": "code",
   "execution_count": null,
   "metadata": {},
   "outputs": [],
   "source": []
  },
  {
   "cell_type": "code",
   "execution_count": null,
   "metadata": {},
   "outputs": [],
   "source": []
  }
 ],
 "metadata": {
  "kernelspec": {
   "display_name": "Python 3",
   "language": "python",
   "name": "python3"
  },
  "language_info": {
   "codemirror_mode": {
    "name": "ipython",
    "version": 3
   },
   "file_extension": ".py",
   "mimetype": "text/x-python",
   "name": "python",
   "nbconvert_exporter": "python",
   "pygments_lexer": "ipython3",
   "version": "3.7.6"
  }
 },
 "nbformat": 4,
 "nbformat_minor": 4
}
