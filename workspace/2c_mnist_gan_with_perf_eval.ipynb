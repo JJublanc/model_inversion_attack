{
 "cells": [
  {
   "cell_type": "code",
   "execution_count": 1,
   "metadata": {},
   "outputs": [],
   "source": [
    "import numpy as np\n",
    "import tensorflow as tf\n",
    "from tensorflow.keras.initializers import RandomNormal\n",
    "from tensorflow.keras.layers import Conv2D, Conv2DTranspose, Dense, Flatten, BatchNormalization, LeakyReLU, ReLU, Reshape\n",
    "from tensorflow.keras.optimizers import RMSprop\n",
    "from tensorflow.keras import backend\n",
    "# from tensorflow.keras.optimizers import SGD\n",
    "from tensorflow.keras.utils import to_categorical\n",
    "import matplotlib.pyplot as plt\n",
    "import os"
   ]
  },
  {
   "cell_type": "code",
   "execution_count": 2,
   "metadata": {},
   "outputs": [
    {
     "data": {
      "text/plain": [
       "True"
      ]
     },
     "execution_count": 2,
     "metadata": {},
     "output_type": "execute_result"
    }
   ],
   "source": [
    "tf.enable_eager_execution()\n",
    "tf.executing_eagerly()"
   ]
  },
  {
   "cell_type": "code",
   "execution_count": 3,
   "metadata": {},
   "outputs": [
    {
     "name": "stdout",
     "output_type": "stream",
     "text": [
      "1 Physical GPUs, 1 Logical GPUs\n"
     ]
    }
   ],
   "source": [
    "import tensorflow as tf\n",
    "gpus = tf.config.experimental.list_physical_devices('GPU')\n",
    "if gpus:\n",
    "    try:\n",
    "        # Currently, memory growth needs to be the same across GPUs\n",
    "        for gpu in gpus:\n",
    "          tf.config.experimental.set_memory_growth(gpu, True)\n",
    "        logical_gpus = tf.config.experimental.list_logical_devices('GPU')\n",
    "        print(len(gpus), \"Physical GPUs,\", len(logical_gpus), \"Logical GPUs\")\n",
    "    except RuntimeError as e:\n",
    "        # Memory growth must be set before GPUs have been initialized\n",
    "        print(e)"
   ]
  },
  {
   "cell_type": "code",
   "execution_count": 4,
   "metadata": {},
   "outputs": [
    {
     "name": "stdout",
     "output_type": "stream",
     "text": [
      "WARNING:tensorflow:From /opt/conda/lib/python3.7/site-packages/tensorflow_core/python/ops/math_grad.py:1424: where (from tensorflow.python.ops.array_ops) is deprecated and will be removed in a future version.\n",
      "Instructions for updating:\n",
      "Use tf.where in 2.0, which has the same broadcast rule as np.where\n"
     ]
    }
   ],
   "source": [
    "saved_model = tf.keras.models.load_model(\"gan_evaluation/gan_evaluation_model.h5\")"
   ]
  },
  {
   "cell_type": "code",
   "execution_count": 5,
   "metadata": {},
   "outputs": [],
   "source": [
    "latent_shape = 100\n",
    "batch_size = 32\n",
    "n_epochs=50"
   ]
  },
  {
   "cell_type": "code",
   "execution_count": 6,
   "metadata": {},
   "outputs": [],
   "source": [
    "(x_train_full, y_train_full), (x_test_full, y_test_full) = tf.keras.datasets.mnist.load_data()\n",
    "\n",
    "# Find indices of labels 5 to 9\n",
    "train_index = np.squeeze(np.argwhere(y_train_full>=5))\n",
    "# test_index = np.squeeze(np.argwhere(y_test_full>=5))\n",
    "\n",
    "(x_train, y_train) = (x_train_full[train_index], y_train_full[train_index])\n",
    "# (x_test, y_test) = (x_test_full[test_index], y_test_full[test_index])\n",
    "\n",
    "x_train_n = np.expand_dims(x_train/255, axis=-1).astype('float32')\n",
    "# x_test_n = np.expand_dims(x_test/255, axis=-1).astype('float32')\n",
    "\n",
    "num_classes = 5\n",
    "\n",
    "# convert class vectors to binary class matrices\n",
    "y_train_b = to_categorical(y_train-5, num_classes)\n",
    "# y_test_b = to_categorical(y_test-5, num_classes)\n",
    "\n",
    "dataset = tf.data.Dataset.from_tensor_slices(x_train_n)\n",
    "dataset = dataset.shuffle(buffer_size=100).batch(batch_size, drop_remainder=True).prefetch(1)"
   ]
  },
  {
   "cell_type": "code",
   "execution_count": 7,
   "metadata": {},
   "outputs": [
    {
     "data": {
      "text/plain": [
       "45943.75"
      ]
     },
     "execution_count": 7,
     "metadata": {},
     "output_type": "execute_result"
    }
   ],
   "source": [
    "# nb of steps\n",
    "x_train_n.shape[0]/batch_size*n_epochs"
   ]
  },
  {
   "cell_type": "code",
   "execution_count": 8,
   "metadata": {},
   "outputs": [],
   "source": [
    "init = RandomNormal(stddev=0.02)\n",
    "clip_value = 0.01"
   ]
  },
  {
   "cell_type": "code",
   "execution_count": 9,
   "metadata": {},
   "outputs": [],
   "source": [
    "critic = tf.keras.Sequential(name=\"critic\")\n",
    "critic.add(Conv2D(64, (4, 4), strides=(2, 2), padding=\"same\", kernel_initializer=init, input_shape=(28, 28, 1), name=\"c_conv_1\"))\n",
    "critic.add(BatchNormalization(name=\"c_batch_norm_1\"))\n",
    "critic.add(LeakyReLU(alpha=0.2, name=\"c_leaky_1\"))\n",
    "critic.add(Conv2D(64, (4, 4), strides=(2, 2), padding=\"same\", kernel_initializer=init, name=\"c_conv_2\"))\n",
    "critic.add(BatchNormalization(name=\"c_batch_norm_2\"))\n",
    "critic.add(LeakyReLU(alpha=0.2, name=\"c_leaky_2\"))\n",
    "critic.add(Flatten(name=\"c_flatten\"))\n",
    "critic.add(Dense(128, name=\"c_dense_1\"))\n",
    "critic.add(Dense(1, name=\"c_dense_out\"))\n",
    "critic.add(LeakyReLU(alpha=0.2, name=\"c_leaky_out\"))"
   ]
  },
  {
   "cell_type": "code",
   "execution_count": 10,
   "metadata": {},
   "outputs": [
    {
     "name": "stdout",
     "output_type": "stream",
     "text": [
      "Model: \"critic\"\n",
      "_________________________________________________________________\n",
      "Layer (type)                 Output Shape              Param #   \n",
      "=================================================================\n",
      "c_conv_1 (Conv2D)            (None, 14, 14, 64)        1088      \n",
      "_________________________________________________________________\n",
      "c_batch_norm_1 (BatchNormali (None, 14, 14, 64)        256       \n",
      "_________________________________________________________________\n",
      "c_leaky_1 (LeakyReLU)        (None, 14, 14, 64)        0         \n",
      "_________________________________________________________________\n",
      "c_conv_2 (Conv2D)            (None, 7, 7, 64)          65600     \n",
      "_________________________________________________________________\n",
      "c_batch_norm_2 (BatchNormali (None, 7, 7, 64)          256       \n",
      "_________________________________________________________________\n",
      "c_leaky_2 (LeakyReLU)        (None, 7, 7, 64)          0         \n",
      "_________________________________________________________________\n",
      "c_flatten (Flatten)          (None, 3136)              0         \n",
      "_________________________________________________________________\n",
      "c_dense_1 (Dense)            (None, 128)               401536    \n",
      "_________________________________________________________________\n",
      "c_dense_out (Dense)          (None, 1)                 129       \n",
      "_________________________________________________________________\n",
      "c_leaky_out (LeakyReLU)      (None, 1)                 0         \n",
      "=================================================================\n",
      "Total params: 468,865\n",
      "Trainable params: 468,609\n",
      "Non-trainable params: 256\n",
      "_________________________________________________________________\n"
     ]
    }
   ],
   "source": [
    "critic.summary()"
   ]
  },
  {
   "cell_type": "code",
   "execution_count": 11,
   "metadata": {},
   "outputs": [],
   "source": [
    "generator = tf.keras.Sequential(name=\"generator\")\n",
    "generator.add(Dense(100, input_shape=[latent_shape], name=\"g_dense_in\"))\n",
    "generator.add(ReLU(name=\"g_relu_1\"))\n",
    "\n",
    "generator.add(Dense(128*7*7, input_shape=[latent_shape], name=\"g_dense_2\"))\n",
    "generator.add(ReLU(name=\"g_relu_2\"))\n",
    "generator.add(Reshape((7, 7, 128)))\n",
    "\n",
    "generator.add(Conv2DTranspose(64, (4, 4),strides=(2, 2), padding=\"same\", kernel_initializer=init, name=\"g_convT_1\"))\n",
    "generator.add(BatchNormalization(name=\"g_batch_norm_1\"))\n",
    "generator.add(ReLU(name=\"g_relu_3\"))\n",
    "\n",
    "generator.add(Conv2DTranspose(1, (4, 4), strides=(2, 2), padding=\"same\", kernel_initializer=init, activation=\"tanh\", name=\"g_convT_2\"))\n",
    "generator.add(BatchNormalization(name=\"g_batch_norm_2\"))\n",
    "# generator.add(ReLU(name=\"g_relu_4\"))\n",
    "# generator.add(Conv2D(1, (7,7), activation=\"tanh\", padding='same', name=\"g_conv_out\"))"
   ]
  },
  {
   "cell_type": "code",
   "execution_count": 12,
   "metadata": {},
   "outputs": [
    {
     "name": "stdout",
     "output_type": "stream",
     "text": [
      "Model: \"generator\"\n",
      "_________________________________________________________________\n",
      "Layer (type)                 Output Shape              Param #   \n",
      "=================================================================\n",
      "g_dense_in (Dense)           (None, 100)               10100     \n",
      "_________________________________________________________________\n",
      "g_relu_1 (ReLU)              (None, 100)               0         \n",
      "_________________________________________________________________\n",
      "g_dense_2 (Dense)            (None, 6272)              633472    \n",
      "_________________________________________________________________\n",
      "g_relu_2 (ReLU)              (None, 6272)              0         \n",
      "_________________________________________________________________\n",
      "reshape (Reshape)            (None, 7, 7, 128)         0         \n",
      "_________________________________________________________________\n",
      "g_convT_1 (Conv2DTranspose)  (None, 14, 14, 64)        131136    \n",
      "_________________________________________________________________\n",
      "g_batch_norm_1 (BatchNormali (None, 14, 14, 64)        256       \n",
      "_________________________________________________________________\n",
      "g_relu_3 (ReLU)              (None, 14, 14, 64)        0         \n",
      "_________________________________________________________________\n",
      "g_convT_2 (Conv2DTranspose)  (None, 28, 28, 1)         1025      \n",
      "_________________________________________________________________\n",
      "g_batch_norm_2 (BatchNormali (None, 28, 28, 1)         4         \n",
      "=================================================================\n",
      "Total params: 775,993\n",
      "Trainable params: 775,863\n",
      "Non-trainable params: 130\n",
      "_________________________________________________________________\n"
     ]
    }
   ],
   "source": [
    "generator.summary()"
   ]
  },
  {
   "cell_type": "code",
   "execution_count": 13,
   "metadata": {},
   "outputs": [
    {
     "name": "stdout",
     "output_type": "stream",
     "text": [
      "Model: \"gan\"\n",
      "_________________________________________________________________\n",
      "Layer (type)                 Output Shape              Param #   \n",
      "=================================================================\n",
      "generator (Sequential)       (None, 28, 28, 1)         775993    \n",
      "_________________________________________________________________\n",
      "critic (Sequential)          (None, 1)                 468865    \n",
      "=================================================================\n",
      "Total params: 1,244,858\n",
      "Trainable params: 1,244,472\n",
      "Non-trainable params: 386\n",
      "_________________________________________________________________\n"
     ]
    }
   ],
   "source": [
    "gan = tf.keras.Sequential([generator, critic], name=\"gan\")\n",
    "gan.summary()"
   ]
  },
  {
   "cell_type": "code",
   "execution_count": 14,
   "metadata": {},
   "outputs": [],
   "source": [
    "def wasserstein_loss(y_true, y_pred):\n",
    "    return backend.mean(y_true * y_pred)"
   ]
  },
  {
   "cell_type": "code",
   "execution_count": 15,
   "metadata": {},
   "outputs": [],
   "source": [
    "critic.compile(loss=wasserstein_loss, optimizer=RMSprop(lr=0.00005, clipvalue=clip_value))\n",
    "# critic.trainable = False\n",
    "gan.compile(loss=wasserstein_loss, optimizer=RMSprop(lr=0.00005, clipvalue=clip_value))"
   ]
  },
  {
   "cell_type": "code",
   "execution_count": 16,
   "metadata": {},
   "outputs": [],
   "source": [
    "def train_gan(gan, dataset, batch_size, latent_shape, n_epochs=n_epochs, n_critic=5):\n",
    "    c_hist, g_hist = list(), list()\n",
    "    generator, critic = gan.layers\n",
    "    for epoch in range(n_epochs):\n",
    "        for X_batch in dataset:\n",
    "            \n",
    "            # phase 1 - training the critic\n",
    "            c_tmp = list()\n",
    "            for _ in range(n_critic):\n",
    "                noise = tf.random.normal(shape=[batch_size, latent_shape])\n",
    "                generated_images = generator(noise)\n",
    "                X_fake_and_real = tf.concat([generated_images, X_batch], axis=0)\n",
    "                y1 = tf.constant([[1.]] * batch_size + [[-1.]] * batch_size)\n",
    "                critic.trainable = True\n",
    "                c_loss = critic.train_on_batch(X_fake_and_real, y1)\n",
    "                c_tmp.append(c_loss)\n",
    "                                    \n",
    "            c_hist.append(np.mean(c_tmp))\n",
    "            \n",
    "            # phase 2 - training the generator\n",
    "            noise = tf.random.normal(shape=[batch_size, latent_shape])\n",
    "            y2 = tf.constant([[1.]] * batch_size)\n",
    "            critic.trainable = False\n",
    "            g_loss = gan.train_on_batch(noise, y2)\n",
    "            g_hist.append(g_loss)\n",
    "        \n",
    "        print('>%d, c=%.3f, g=%.3f' % (epoch, c_hist[-1], g_loss))\n",
    "        \n",
    "        # predictions\n",
    "        y_prob = saved_model.predict(generated_images)\n",
    "        for i in range(batch_size):\n",
    "            label = np.argmax(y_prob[i,:])+5\n",
    "            prob = np.max(y_prob[i,:])\n",
    "            # PLOT\n",
    "            plt.subplot(4, 8, 1 + i)\n",
    "            plt.axis('off')\n",
    "            plt.imshow(generated_images[i, :, :, 0], cmap='gray_r')\n",
    "            plt.title(\"L={}\\nP={:.2f}\".format(label, prob), size=10)\n",
    "            # save plot to file\n",
    "        filename1 = 'eval_gan_plot_%04d.png' % (epoch+1)\n",
    "        plt.savefig(os.path.join(\"gan_evaluation\", filename1), dpi=200, size=(10, 10))\n",
    "        plt.close()\n",
    "        # save the generator model\n",
    "        filename2 = os.path.join(\"gan_evaluation\",'attack_gan_model_%04d.h5' % (epoch+1))\n",
    "        gan.save(filename2)\n",
    "        # save the critic model\n",
    "        filename3 = os.path.join(\"gan_evaluation\",'attack_critic_model_weights_%04d.h5' % (epoch+1))\n",
    "        critic.save_weights(filename3)\n",
    "        "
   ]
  },
  {
   "cell_type": "code",
   "execution_count": 17,
   "metadata": {},
   "outputs": [
    {
     "name": "stdout",
     "output_type": "stream",
     "text": [
      ">0, c=-28068.535, g=-4858.824\n",
      ">1, c=-129914.562, g=-22779.910\n",
      ">2, c=-338398.844, g=-58719.902\n",
      ">3, c=-696579.250, g=-111467.375\n",
      ">4, c=-1217413.000, g=-199865.469\n",
      ">5, c=-1941423.625, g=-331694.188\n",
      ">6, c=-2885706.750, g=-491547.500\n",
      ">7, c=-4074969.250, g=-695947.625\n",
      ">8, c=-5540040.500, g=-944504.500\n",
      ">9, c=-7306177.000, g=-1237091.250\n",
      ">10, c=-9401341.000, g=-1606751.000\n",
      ">11, c=-11849793.000, g=-2027238.250\n",
      ">12, c=-14679034.000, g=-2531039.000\n",
      ">13, c=-17911180.000, g=-3102326.000\n",
      ">14, c=-21569382.000, g=-3746009.000\n",
      ">15, c=-25685532.000, g=-4465330.000\n",
      ">16, c=-30286070.000, g=-5275254.500\n",
      ">17, c=-35400972.000, g=-6169782.000\n",
      ">18, c=-41054984.000, g=-7182955.000\n",
      ">19, c=-47276940.000, g=-8232397.500\n",
      ">20, c=-54096424.000, g=-9454419.000\n",
      ">21, c=-61535796.000, g=-10804909.000\n",
      ">22, c=-69621784.000, g=-12203502.000\n",
      ">23, c=-78379824.000, g=-13813800.000\n",
      ">24, c=-87835920.000, g=-15519111.000\n",
      ">25, c=-98001744.000, g=-17293628.000\n",
      ">26, c=-108908928.000, g=-19251932.000\n",
      ">27, c=-120597440.000, g=-21310466.000\n",
      ">28, c=-133068080.000, g=-23556040.000\n",
      ">29, c=-146336864.000, g=-25985132.000\n",
      ">30, c=-160443920.000, g=-28346216.000\n",
      ">31, c=-175461776.000, g=-31039624.000\n",
      ">32, c=-191367152.000, g=-34031076.000\n",
      ">33, c=-208189216.000, g=-37091288.000\n",
      ">34, c=-225940192.000, g=-40313088.000\n",
      ">35, c=-244636080.000, g=-43671928.000\n",
      ">36, c=-264327680.000, g=-47238968.000\n",
      ">37, c=-285034336.000, g=-50978656.000\n",
      ">38, c=-306789888.000, g=-54900968.000\n",
      ">39, c=-329644480.000, g=-58980580.000\n",
      ">40, c=-353592064.000, g=-63326504.000\n",
      ">41, c=-378638848.000, g=-67832336.000\n",
      ">42, c=-404878784.000, g=-72560176.000\n",
      ">43, c=-432316416.000, g=-77581296.000\n",
      ">44, c=-460916896.000, g=-82770704.000\n",
      ">45, c=-490671168.000, g=-88200176.000\n",
      ">46, c=-521690720.000, g=-93901504.000\n",
      ">47, c=-553983424.000, g=-99795584.000\n",
      ">48, c=-587606720.000, g=-105670416.000\n",
      ">49, c=-622635712.000, g=-112176352.000\n"
     ]
    }
   ],
   "source": [
    "train_gan(gan, dataset, batch_size, latent_shape)"
   ]
  },
  {
   "cell_type": "code",
   "execution_count": null,
   "metadata": {},
   "outputs": [],
   "source": []
  },
  {
   "cell_type": "code",
   "execution_count": null,
   "metadata": {},
   "outputs": [],
   "source": []
  },
  {
   "cell_type": "code",
   "execution_count": null,
   "metadata": {},
   "outputs": [],
   "source": []
  }
 ],
 "metadata": {
  "kernelspec": {
   "display_name": "Python 3",
   "language": "python",
   "name": "python3"
  },
  "language_info": {
   "codemirror_mode": {
    "name": "ipython",
    "version": 3
   },
   "file_extension": ".py",
   "mimetype": "text/x-python",
   "name": "python",
   "nbconvert_exporter": "python",
   "pygments_lexer": "ipython3",
   "version": "3.7.6"
  }
 },
 "nbformat": 4,
 "nbformat_minor": 4
}
