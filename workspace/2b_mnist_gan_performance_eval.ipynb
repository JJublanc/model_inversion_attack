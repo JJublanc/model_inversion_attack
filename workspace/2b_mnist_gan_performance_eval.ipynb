{
 "cells": [
  {
   "cell_type": "code",
   "execution_count": null,
   "metadata": {},
   "outputs": [],
   "source": [
    "import tensorflow as tf\n",
    "import numpy as np\n",
    "import matplotlib.pyplot as plt\n",
    "import os\n",
    "from tensorflow.keras.layers import Conv2D, Dense, Dropout, MaxPool2D, InputLayer, Flatten\n",
    "from tensorflow.keras.optimizers import SGD\n",
    "from tensorflow.keras.utils import to_categorical"
   ]
  },
  {
   "cell_type": "code",
   "execution_count": null,
   "metadata": {},
   "outputs": [],
   "source": [
    "import tensorflow as tf\n",
    "gpus = tf.config.experimental.list_physical_devices('GPU')\n",
    "if gpus:\n",
    "    try:\n",
    "        # Currently, memory growth needs to be the same across GPUs\n",
    "        for gpu in gpus:\n",
    "          tf.config.experimental.set_memory_growth(gpu, True)\n",
    "        logical_gpus = tf.config.experimental.list_logical_devices('GPU')\n",
    "        print(len(gpus), \"Physical GPUs,\", len(logical_gpus), \"Logical GPUs\")\n",
    "    except RuntimeError as e:\n",
    "        # Memory growth must be set before GPUs have been initialized\n",
    "        print(e)"
   ]
  },
  {
   "cell_type": "code",
   "execution_count": null,
   "metadata": {},
   "outputs": [],
   "source": [
    "def pick_and_show_image(data, labels):\n",
    "    i = np.random.randint(0, len(data), 1)[0]\n",
    "    img = np.squeeze(data[i,:,:])\n",
    "    y = labels[i]\n",
    "\n",
    "    figsize=(3,3)\n",
    "    plt.figure(figsize=figsize)\n",
    "    plt.imshow(img, cmap=\"gray_r\")\n",
    "    plt.title(\"Label : {}\".format(y))\n",
    "    plt.axis('off')\n",
    "    plt.show()\n",
    "    return img, y"
   ]
  },
  {
   "cell_type": "markdown",
   "metadata": {},
   "source": [
    "## Read mnist data"
   ]
  },
  {
   "cell_type": "code",
   "execution_count": null,
   "metadata": {},
   "outputs": [],
   "source": [
    "(x_train_full, y_train_full), (x_test_full, y_test_full) = tf.keras.datasets.mnist.load_data()"
   ]
  },
  {
   "cell_type": "code",
   "execution_count": null,
   "metadata": {},
   "outputs": [],
   "source": [
    "print(\"training set shape: {}\".format(x_train_full.shape))\n",
    "print(\"training set label shape: {}\".format(y_train_full.shape))\n",
    "print(\"test set shape: {}\".format(x_test_full.shape))\n",
    "print(\"test set label shape: {}\".format(y_test_full.shape))"
   ]
  },
  {
   "cell_type": "markdown",
   "metadata": {},
   "source": [
    "#### Keep data from 5 to 9 included"
   ]
  },
  {
   "cell_type": "code",
   "execution_count": null,
   "metadata": {},
   "outputs": [],
   "source": [
    "# Find indices of labels 5 to 9\n",
    "train_index = np.squeeze(np.argwhere(y_train_full>=5))\n",
    "test_index = np.squeeze(np.argwhere(y_test_full>=5))"
   ]
  },
  {
   "cell_type": "code",
   "execution_count": null,
   "metadata": {},
   "outputs": [],
   "source": [
    "print(train_index.shape)\n",
    "print(test_index.shape)"
   ]
  },
  {
   "cell_type": "code",
   "execution_count": null,
   "metadata": {},
   "outputs": [],
   "source": [
    "(x_train, y_train) = (x_train_full[train_index], y_train_full[train_index])\n",
    "(x_test, y_test) = (x_test_full[test_index], y_test_full[test_index])"
   ]
  },
  {
   "cell_type": "markdown",
   "metadata": {},
   "source": [
    "#### Preprocessing\n",
    "\n",
    "- normalise image values\n",
    "- binarise categorical labels"
   ]
  },
  {
   "cell_type": "code",
   "execution_count": null,
   "metadata": {},
   "outputs": [],
   "source": [
    "x_train_n = np.expand_dims(x_train/255, axis=-1).astype('float32')\n",
    "x_test_n = np.expand_dims(x_test/255, axis=-1).astype('float32')\n",
    "\n",
    "num_classes = 5\n",
    "\n",
    "# convert class vectors to binary class matrices\n",
    "y_train_b = to_categorical(y_train-5, num_classes)\n",
    "y_test_b = to_categorical(y_test-5, num_classes)"
   ]
  },
  {
   "cell_type": "code",
   "execution_count": null,
   "metadata": {},
   "outputs": [],
   "source": [
    "print(\"training set shape [labels 5 to 9]: {}\".format(x_train_n.shape))\n",
    "print(\"training set label shape [labels 5 to 9]: {}\".format(y_train_b.shape))\n",
    "print(\"test set shape [labels 5 to 9]: {}\".format(x_test_n.shape))\n",
    "print(\"test set label shape [labels 5 to 9]: {}\".format(y_test_b.shape))"
   ]
  },
  {
   "cell_type": "code",
   "execution_count": null,
   "metadata": {},
   "outputs": [],
   "source": [
    "pick_and_show_image(x_train, y_train);\n",
    "pick_and_show_image(x_train_n, y_train_b);\n",
    "pick_and_show_image(x_test, y_test);\n",
    "pick_and_show_image(x_test_n, y_test_b);"
   ]
  },
  {
   "cell_type": "markdown",
   "metadata": {},
   "source": [
    "## Train classification model"
   ]
  },
  {
   "cell_type": "code",
   "execution_count": null,
   "metadata": {},
   "outputs": [],
   "source": [
    "model = tf.keras.Sequential(name=\"mnist529\")\n",
    "model.add(InputLayer((28, 28, 1), name=\"input\"))\n",
    "model.add(Conv2D(32, (3, 3), strides=(1, 1), padding=\"same\", activation=\"relu\", name=\"conv_1\"))\n",
    "model.add(MaxPool2D((2, 2), name=\"max_pool_1\"))\n",
    "model.add(Conv2D(64, (3, 3), strides=(1, 1), padding=\"same\", activation=\"relu\", name=\"conv_2\"))\n",
    "model.add(MaxPool2D((2, 2), name=\"max_pool_2\"))\n",
    "model.add(Dropout(.25, name=\"droput_025\"))\n",
    "model.add(Flatten(name=\"flatten\"))\n",
    "model.add(Dense(128, name=\"dense_1\", activation=\"softmax\"))\n",
    "model.add(Dropout(.5, name=\"droput_05\"))\n",
    "model.add(Dense(5, name=\"dense_out\", activation=\"softmax\"))"
   ]
  },
  {
   "cell_type": "code",
   "execution_count": null,
   "metadata": {},
   "outputs": [],
   "source": [
    "model.summary()"
   ]
  },
  {
   "cell_type": "code",
   "execution_count": null,
   "metadata": {},
   "outputs": [],
   "source": [
    "optimizer = SGD(learning_rate=0.01, momentum=0.9)\n",
    "model.compile(optimizer=optimizer, loss=\"categorical_crossentropy\", metrics=[\"accuracy\"])"
   ]
  },
  {
   "cell_type": "code",
   "execution_count": null,
   "metadata": {},
   "outputs": [],
   "source": [
    "print('# Fit model on training data')\n",
    "history = model.fit(x_train_n, y_train_b,\n",
    "                    batch_size=32,\n",
    "                    epochs=10,\n",
    "                    validation_data=(x_test_n, y_test_b))\n",
    "\n",
    "score = model.evaluate(x_test_n, y_test_b, verbose=0)\n",
    "print('Test loss:', score[0])\n",
    "print('Test accuracy:', score[1])"
   ]
  },
  {
   "cell_type": "markdown",
   "metadata": {},
   "source": [
    "## Save model\n"
   ]
  },
  {
   "cell_type": "code",
   "execution_count": null,
   "metadata": {},
   "outputs": [],
   "source": [
    "if not \"gan_evaluation\" in os.listdir(\"./\"):\n",
    "    os.mkdir(\"gan_evaluation\")\n",
    "model.save(\"gan_evaluation/gan_evaluation_model.h5\")"
   ]
  },
  {
   "cell_type": "markdown",
   "metadata": {},
   "source": [
    "## Make prediction"
   ]
  },
  {
   "cell_type": "code",
   "execution_count": null,
   "metadata": {},
   "outputs": [],
   "source": [
    "saved_model = tf.keras.models.load_model(\"gan_evaluation/gan_evaluation_model.h5\")"
   ]
  },
  {
   "cell_type": "code",
   "execution_count": null,
   "metadata": {},
   "outputs": [],
   "source": [
    "y_pred = saved_model.predict_classes(x_test_n)+5"
   ]
  },
  {
   "cell_type": "code",
   "execution_count": null,
   "metadata": {},
   "outputs": [],
   "source": [
    "y_pred[0]"
   ]
  },
  {
   "cell_type": "code",
   "execution_count": null,
   "metadata": {},
   "outputs": [],
   "source": [
    "y_prob = saved_model.predict(x_test_n)"
   ]
  },
  {
   "cell_type": "code",
   "execution_count": null,
   "metadata": {},
   "outputs": [],
   "source": [
    "print(y_prob[0,:])\n",
    "print(np.max(y_prob[0,:]))\n",
    "print(np.argmax(y_prob[0,:])+5)"
   ]
  },
  {
   "cell_type": "code",
   "execution_count": null,
   "metadata": {},
   "outputs": [],
   "source": [
    "np.argwhere((y_pred - y_test)==0).shape[0]/len(y_test)"
   ]
  },
  {
   "cell_type": "code",
   "execution_count": null,
   "metadata": {},
   "outputs": [],
   "source": [
    "pick_and_show_image(x_test_n, y_pred);\n",
    "pick_and_show_image(x_test_n, y_pred);\n",
    "pick_and_show_image(x_test_n, y_pred);\n",
    "pick_and_show_image(x_test_n, y_pred);"
   ]
  },
  {
   "cell_type": "code",
   "execution_count": null,
   "metadata": {},
   "outputs": [],
   "source": [
    "import matplotlib.pyplot as plt"
   ]
  },
  {
   "cell_type": "code",
   "execution_count": null,
   "metadata": {},
   "outputs": [],
   "source": [
    "batch_size = 32\n",
    "generated_images = x_test_n[:batch_size, :, :, :]\n",
    "# predictions\n",
    "y_prob = saved_model.predict(generated_images)\n",
    "for i in range(batch_size):\n",
    "    label = np.argmax(y_prob[i,:])+5\n",
    "    prob = np.max(y_prob[i,:])\n",
    "    # PLOT\n",
    "    plt.subplot(4, 8, 1 + i)\n",
    "    plt.axis('off')\n",
    "    plt.imshow(generated_images[i, :, :, 0], cmap='gray_r')\n",
    "    plt.title(\"L={}\\nP={:.2f}\".format(label, prob), size=10)\n",
    "plt.savefig(os.path.join(\"gan_evaluation\", \"test\"), dpi=200)\n",
    "plt.close()\n",
    "    \n",
    "        "
   ]
  },
  {
   "cell_type": "code",
   "execution_count": null,
   "metadata": {},
   "outputs": [],
   "source": []
  }
 ],
 "metadata": {
  "kernelspec": {
   "display_name": "Python 3",
   "language": "python",
   "name": "python3"
  },
  "language_info": {
   "codemirror_mode": {
    "name": "ipython",
    "version": 3
   },
   "file_extension": ".py",
   "mimetype": "text/x-python",
   "name": "python",
   "nbconvert_exporter": "python",
   "pygments_lexer": "ipython3",
   "version": "3.7.6"
  }
 },
 "nbformat": 4,
 "nbformat_minor": 4
}
